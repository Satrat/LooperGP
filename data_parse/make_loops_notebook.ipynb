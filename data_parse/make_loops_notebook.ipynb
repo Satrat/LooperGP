{
 "cells": [
  {
   "cell_type": "code",
   "execution_count": 4,
   "id": "00dc20a4-cb07-4ee0-9506-b6466efa2084",
   "metadata": {},
   "outputs": [],
   "source": [
    "import guitarpro\n",
    "import dadagp as dada\n",
    "import numpy as np\n",
    "import matplotlib.pyplot as plt\n",
    "import math\n",
    "import os\n",
    "import json"
   ]
  },
  {
   "cell_type": "code",
   "execution_count": 5,
   "id": "b5ff4276-b95d-44cb-bde4-40e7f9191d67",
   "metadata": {},
   "outputs": [],
   "source": [
    "DADAGP_PATH = \"acdc_ex.txt\"\n",
    "GP_PATH = \"../util/test_acdc.gp5\"\n",
    "PREFIX = \"./test_loops_out/acdc_test\""
   ]
  },
  {
   "cell_type": "code",
   "execution_count": 6,
   "id": "07f0ea1c",
   "metadata": {},
   "outputs": [
    {
     "name": "stdout",
     "output_type": "stream",
     "text": [
      "4 4\n",
      "KeySignature.CMajor\n",
      "4 4\n",
      "KeySignature.CMajor\n",
      "4 4\n",
      "KeySignature.CMajor\n",
      "4 4\n",
      "KeySignature.CMajor\n",
      "4 4\n",
      "KeySignature.CMajor\n",
      "4 4\n",
      "KeySignature.CMajor\n",
      "4 4\n",
      "KeySignature.CMajor\n",
      "4 4\n",
      "KeySignature.CMajor\n",
      "4 4\n",
      "KeySignature.CMajor\n",
      "4 4\n",
      "KeySignature.CMajor\n"
     ]
    }
   ],
   "source": [
    "#snippet for extracting time signatures\n",
    "\n",
    "song = guitarpro.parse(GP_PATH) #check if one time signature throughout, calculate min/max beat lengths based on it\n",
    "timeSignatures = {}\n",
    "for measure in song.tracks[0].measures[0:10]:\n",
    "    signature = (measure.timeSignature.numerator, measure.timeSignature.denominator.value)\n",
    "    if signature in timeSignatures.keys():\n",
    "        timeSignatures[signature] += 1\n",
    "    else:\n",
    "        timeSignatures[signature] = 1\n",
    "    print(measure.timeSignature.numerator, measure.timeSignature.denominator.value)\n",
    "    print(measure.keySignature) #doesn't seem like this is accurate, just defaulting to CMaj. Could we auto extract key?\n",
    "#what to do if time signature changes? could just use most prominent? or split up song?"
   ]
  },
  {
   "cell_type": "code",
   "execution_count": null,
   "id": "22fd62bf",
   "metadata": {},
   "outputs": [],
   "source": [
    "#create the json file for names of all the loop files\n",
    "\n",
    "root_dir = \"D:\\Documents\\DATA\\DadaGP-Loops\"\n",
    "file_list = []\n",
    "for subdir, dirs, files in os.walk(root_dir):\n",
    "    short_subdir = subdir.replace(root_dir + \"\\\\\", \"\")\n",
    "    for file in files:\n",
    "        if file.endswith(\".txt\"):\n",
    "            full_path = os.path.join(short_subdir, file)\n",
    "            file_list.append(full_path)\n",
    "\n",
    "#save that file list to json\n",
    "root_dir = \"D:\\Documents\\DATA\\DadaGP-Loops\"\n",
    "path_json = os.path.join(root_dir, \"_DadaGP_LOOPS_all_filenames.json\")\n",
    "with open(path_json, 'w') as f:\n",
    "    json.dump(file_list, f)"
   ]
  },
  {
   "cell_type": "code",
   "execution_count": 7,
   "id": "023ff59d",
   "metadata": {},
   "outputs": [],
   "source": [
    "#helper function for finding number of empty bars in a track\n",
    "\n",
    "def calc_empty_tracks(test_file):\n",
    "    song = guitarpro.parse(test_file)\n",
    "    empty_tracks = 0\n",
    "    total_tracks = len(song.tracks)\n",
    "    for track in song.tracks:\n",
    "        empty_bars = 0\n",
    "        total_bars = len(track.measures)\n",
    "        for measure in track.measures:\n",
    "            non_rests = 0\n",
    "            for beat in measure.voices[0].beats:\n",
    "                for note in beat.notes:\n",
    "                    if note.type != guitarpro.NoteType.rest:\n",
    "                        non_rests = non_rests + 1\n",
    "            if non_rests == 0:\n",
    "                empty_bars = empty_bars + 1\n",
    "        if empty_bars == total_bars:\n",
    "            empty_tracks = empty_tracks + 1\n",
    "    return empty_tracks, total_tracks"
   ]
  },
  {
   "cell_type": "code",
   "execution_count": 17,
   "id": "88be6712",
   "metadata": {},
   "outputs": [
    {
     "name": "stdout",
     "output_type": "stream",
     "text": [
      "0 empty tracks out of 140179 total tracks\n"
     ]
    }
   ],
   "source": [
    "# report the number of empty bars across all tracks\n",
    "\n",
    "root_path = \"D:\\Documents\\DATA\\DadaGP-Loops\"\n",
    "allfiles_path = os.path.join(root_path,\"file_list.json\" )\n",
    "with open(allfiles_path, \"r\") as f:\n",
    "    allfiles =  json.load(f)\n",
    "\n",
    "n_files = len(allfiles)\n",
    "total_tracks = 0\n",
    "empty_tracks = 0\n",
    "for fidx in range(n_files):   \n",
    "    fn = allfiles[fidx].replace(\".txt\", \".gp5\")\n",
    "    file = os.path.join(root_path, fn)\n",
    "    empty, total = calc_empty_tracks(file)\n",
    "    total_tracks = total_tracks + total\n",
    "    empty_tracks = empty_tracks + empty\n",
    "\n",
    "print(\"{} empty tracks out of {} total tracks\".format(empty_tracks, total_tracks))"
   ]
  },
  {
   "cell_type": "code",
   "execution_count": 9,
   "id": "9ec6329e",
   "metadata": {},
   "outputs": [
    {
     "data": {
      "text/plain": [
       "0.19808944952830457"
      ]
     },
     "execution_count": 9,
     "metadata": {},
     "output_type": "execute_result"
    }
   ],
   "source": [
    "35003.0 / 176703.0 #percentage of empty tracks"
   ]
  },
  {
   "cell_type": "code",
   "execution_count": 15,
   "id": "3ab61560",
   "metadata": {},
   "outputs": [
    {
     "name": "stdout",
     "output_type": "stream",
     "text": [
      "19629 maximum token length\n"
     ]
    }
   ],
   "source": [
    "#get max number of tokens in dataset \n",
    "\n",
    "root_path = \"D:\\Documents\\DATA\\DadaGP-Loops\"\n",
    "allfiles_path = os.path.join(root_path,\"file_list.json\" )\n",
    "with open(allfiles_path, \"r\") as f:\n",
    "    allfiles =  json.load(f)\n",
    "\n",
    "n_files = len(allfiles)\n",
    "max_lines = 0\n",
    "for fidx in range(n_files):   \n",
    "    fn = allfiles[fidx]\n",
    "    file = os.path.join(root_path, fn)\n",
    "    with open(file) as f:\n",
    "        num_lines = len(f.read().splitlines())\n",
    "        if num_lines > max_lines:\n",
    "            max_lines = num_lines\n",
    "print(\"{} maximum token length\".format(max_lines))"
   ]
  },
  {
   "cell_type": "code",
   "execution_count": 13,
   "id": "9fa492e1",
   "metadata": {},
   "outputs": [
    {
     "data": {
      "text/plain": [
       "19.173828125"
      ]
     },
     "execution_count": 13,
     "metadata": {},
     "output_type": "execute_result"
    }
   ],
   "source": [
    "9817.0 / 512 #group size for dataset with 4 repeats"
   ]
  },
  {
   "cell_type": "code",
   "execution_count": 16,
   "id": "692ecea6",
   "metadata": {},
   "outputs": [
    {
     "data": {
      "text/plain": [
       "38.337890625"
      ]
     },
     "execution_count": 16,
     "metadata": {},
     "output_type": "execute_result"
    }
   ],
   "source": [
    "19629.0 / 512 #group size for dataset with 8 repeats"
   ]
  },
  {
   "cell_type": "code",
   "execution_count": null,
   "id": "927f8f82",
   "metadata": {},
   "outputs": [],
   "source": [
    "#extract 25 \"real\" loops following genre distribution\n",
    "#each loop should be 4 bars long (should we restrict to 4/4 time signature?)\n",
    "#TODO: how to get the genre distribution? we have it as JSON files but #2 genre is \"unknown.\" Should we filter out and only use top few genres? and do this in training too?\n",
    "#for generation, was thinking for each real example we generate artifical one with the same tempo and starting beat (since a primer is needed)\n",
    "#should we include genre/artist tags in the artificial generation and does this matter? \n",
    "#try prompting with an open repeat symbol, could make the training dataset have the repeat\n",
    "#training only on guitar parts?\n",
    "#average number of instruments per track? Could be predominantly only guitar or something\n",
    "#try training on different checkpoints other than 200\n",
    "#try changing the group size"
   ]
  }
 ],
 "metadata": {
  "interpreter": {
   "hash": "7267be1539d73ab39c112814417f18c4975d99ab747a8f8d4d84d1f2aa9dc97a"
  },
  "kernelspec": {
   "display_name": "Python 3.7.0 64-bit",
   "language": "python",
   "name": "python3"
  },
  "language_info": {
   "codemirror_mode": {
    "name": "ipython",
    "version": 3
   },
   "file_extension": ".py",
   "mimetype": "text/x-python",
   "name": "python",
   "nbconvert_exporter": "python",
   "pygments_lexer": "ipython3",
   "version": "3.7.0"
  }
 },
 "nbformat": 4,
 "nbformat_minor": 5
}
