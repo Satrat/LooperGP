{
 "cells": [
  {
   "cell_type": "code",
   "execution_count": 1,
   "id": "68f8aa98-2407-4e60-a205-25862cde47d7",
   "metadata": {},
   "outputs": [],
   "source": [
    "import numpy as np"
   ]
  },
  {
   "cell_type": "code",
   "execution_count": 2,
   "id": "828badfc-489b-4de5-84b4-1ac419018afb",
   "metadata": {},
   "outputs": [],
   "source": [
    "training_data = np.load('fulldataset-song-artist-train_data_XL.npz')"
   ]
  },
  {
   "cell_type": "code",
   "execution_count": 3,
   "id": "b8ff82e5-4c11-4298-8c1b-fc4de42052b2",
   "metadata": {},
   "outputs": [
    {
     "data": {
      "text/plain": [
       "<numpy.lib.npyio.NpzFile at 0x1b51fc66470>"
      ]
     },
     "execution_count": 3,
     "metadata": {},
     "output_type": "execute_result"
    }
   ],
   "source": [
    "training_data"
   ]
  },
  {
   "cell_type": "code",
   "execution_count": 4,
   "id": "fafcf521-e527-4e23-86dc-95c032536b1b",
   "metadata": {},
   "outputs": [
    {
     "name": "stdout",
     "output_type": "stream",
     "text": [
      "['x', 'y', 'mask', 'seq_len', 'num_groups']\n"
     ]
    }
   ],
   "source": [
    "print(training_data.files)"
   ]
  },
  {
   "cell_type": "code",
   "execution_count": 7,
   "id": "8c240140-0de2-49e8-802c-25d5406c598b",
   "metadata": {},
   "outputs": [
    {
     "name": "stdout",
     "output_type": "stream",
     "text": [
      "(19930, 40, 512) float64\n",
      "(19930, 40, 512) float64\n",
      "(19930, 40, 512) float64\n",
      "(19930,) int64\n",
      "(19930,) int64\n"
     ]
    }
   ],
   "source": [
    "print(training_data['x'].shape, training_data['x'].dtype)\n",
    "print(training_data['y'].shape, training_data['y'].dtype)\n",
    "print(training_data['mask'].shape, training_data['mask'].dtype)\n",
    "print(training_data['seq_len'].shape, training_data['seq_len'].dtype)\n",
    "print(training_data['num_groups'].shape, training_data['num_groups'].dtype)"
   ]
  },
  {
   "cell_type": "code",
   "execution_count": 10,
   "id": "0bdd889e-8e37-4dfe-8db6-8cbeae8bc3c5",
   "metadata": {},
   "outputs": [
    {
     "name": "stdout",
     "output_type": "stream",
     "text": [
      "[[0.000e+00 2.425e+03 4.760e+02 ... 7.870e+02 6.520e+02 0.000e+00]\n",
      " [4.000e+00 7.580e+02 5.890e+02 ... 7.870e+02 6.520e+02 1.000e+00]\n",
      " [4.000e+00 3.000e+01 3.800e+01 ... 0.000e+00 6.910e+02 1.000e+01]\n",
      " ...\n",
      " [6.200e+01 9.000e+00 1.000e+00 ... 4.410e+02 4.410e+02 4.410e+02]\n",
      " [4.410e+02 4.410e+02 4.410e+02 ... 4.410e+02 4.410e+02 4.410e+02]\n",
      " [4.410e+02 4.410e+02 4.410e+02 ... 4.410e+02 4.410e+02 4.410e+02]]\n",
      "[[2.425e+03 4.760e+02 9.740e+02 ... 6.520e+02 0.000e+00 4.000e+00]\n",
      " [7.580e+02 5.890e+02 5.820e+02 ... 6.520e+02 1.000e+00 4.000e+00]\n",
      " [3.000e+01 3.800e+01 7.580e+02 ... 6.910e+02 1.000e+01 0.000e+00]\n",
      " ...\n",
      " [9.000e+00 1.000e+00 3.400e+01 ... 4.410e+02 4.410e+02 4.410e+02]\n",
      " [4.410e+02 4.410e+02 4.410e+02 ... 4.410e+02 4.410e+02 4.410e+02]\n",
      " [4.410e+02 4.410e+02 4.410e+02 ... 4.410e+02 4.410e+02 4.410e+02]]\n",
      "[[1. 1. 1. ... 1. 1. 1.]\n",
      " [1. 1. 1. ... 1. 1. 1.]\n",
      " [1. 1. 1. ... 1. 1. 1.]\n",
      " ...\n",
      " [1. 1. 1. ... 0. 0. 0.]\n",
      " [0. 0. 0. ... 0. 0. 0.]\n",
      " [0. 0. 0. ... 0. 0. 0.]]\n",
      "19306\n",
      "38\n"
     ]
    }
   ],
   "source": [
    "IDX = 25\n",
    "print(training_data['x'][IDX])\n",
    "print(training_data['y'][IDX])\n",
    "print(training_data['mask'][IDX])\n",
    "print(training_data['seq_len'][IDX])\n",
    "print(training_data['num_groups'][IDX])"
   ]
  },
  {
   "cell_type": "code",
   "execution_count": null,
   "id": "b172a5dd-d415-4d42-80fd-d40fedb4dbcb",
   "metadata": {},
   "outputs": [],
   "source": []
  }
 ],
 "metadata": {
  "kernelspec": {
   "display_name": "Python 3 (ipykernel)",
   "language": "python",
   "name": "python3"
  },
  "language_info": {
   "codemirror_mode": {
    "name": "ipython",
    "version": 3
   },
   "file_extension": ".py",
   "mimetype": "text/x-python",
   "name": "python",
   "nbconvert_exporter": "python",
   "pygments_lexer": "ipython3",
   "version": "3.7.0"
  }
 },
 "nbformat": 4,
 "nbformat_minor": 5
}
