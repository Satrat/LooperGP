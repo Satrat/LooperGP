{
 "cells": [
  {
   "cell_type": "code",
   "execution_count": 5,
   "id": "68f8aa98-2407-4e60-a205-25862cde47d7",
   "metadata": {},
   "outputs": [],
   "source": [
    "import numpy as np\n",
    "import pickle\n",
    "import os"
   ]
  },
  {
   "cell_type": "code",
   "execution_count": null,
   "id": "828badfc-489b-4de5-84b4-1ac419018afb",
   "metadata": {},
   "outputs": [],
   "source": [
    "training_data = np.load('../data/fulldataset-song-artist-train_data_XL.npz')\n",
    "event2word = pickle.load(open('../data/vocab_song_artist.pkl', 'rb'))\n",
    "word2event = pickle.load(open('../data/rev_vocab_song_artist.pkl', 'rb'))"
   ]
  },
  {
   "cell_type": "code",
   "execution_count": null,
   "id": "fafcf521-e527-4e23-86dc-95c032536b1b",
   "metadata": {},
   "outputs": [],
   "source": [
    "print(training_data.files)"
   ]
  },
  {
   "cell_type": "code",
   "execution_count": null,
   "id": "8c240140-0de2-49e8-802c-25d5406c598b",
   "metadata": {},
   "outputs": [],
   "source": [
    "print(training_data['x'].shape, training_data['x'].dtype)\n",
    "print(training_data['y'].shape, training_data['y'].dtype)\n",
    "print(training_data['mask'].shape, training_data['mask'].dtype)\n",
    "print(training_data['seq_len'].shape, training_data['seq_len'].dtype)\n",
    "print(training_data['num_groups'].shape, training_data['num_groups'].dtype)"
   ]
  },
  {
   "cell_type": "code",
   "execution_count": null,
   "id": "0bdd889e-8e37-4dfe-8db6-8cbeae8bc3c5",
   "metadata": {},
   "outputs": [],
   "source": [
    "IDX = 25\n",
    "print(training_data['x'][IDX])\n",
    "print(training_data['y'][IDX])\n",
    "print(training_data['mask'][IDX])\n",
    "print(training_data['seq_len'][IDX])\n",
    "print(training_data['num_groups'][IDX])"
   ]
  },
  {
   "cell_type": "code",
   "execution_count": 9,
   "id": "9dd4f13b",
   "metadata": {},
   "outputs": [],
   "source": [
    "folder = \"D:/Documents/DATA/DadaGP-v1.1/D/Disturbed\"\n",
    "file = \"Disturbed - Down with the Sickness.gp3.tokens.txt\"\n",
    "full_path = os.path.join(folder, file)\n",
    "lines = []\n",
    "with open(full_path) as file:\n",
    "    lines = [line.rstrip() for line in file]"
   ]
  },
  {
   "cell_type": "code",
   "execution_count": 13,
   "id": "511fab45",
   "metadata": {},
   "outputs": [
    {
     "name": "stdout",
     "output_type": "stream",
     "text": [
      "5 measure:repeat_close:2\n",
      "72 measure:repeat_open\n",
      "73 measure:repeat_close:1\n",
      "168 measure:repeat_open\n",
      "169 measure:repeat_close:1\n",
      "265 measure:repeat_open\n",
      "266 measure:repeat_close:2\n",
      "359 measure:repeat_open\n",
      "360 measure:repeat_close:3\n",
      "408 measure:repeat_open\n",
      "409 measure:repeat_close:2\n",
      "502 measure:repeat_open\n",
      "503 measure:repeat_close:3\n",
      "551 measure:repeat_open\n",
      "587 measure:repeat_close:3\n",
      "623 measure:repeat_open\n",
      "624 measure:repeat_close:2\n",
      "717 measure:repeat_open\n",
      "718 measure:repeat_close:3\n",
      "766 measure:repeat_open\n",
      "767 measure:repeat_close:2\n",
      "860 measure:repeat_open\n",
      "861 measure:repeat_close:3\n",
      "909 measure:repeat_open\n",
      "947 measure:repeat_close:3\n"
     ]
    }
   ],
   "source": [
    "for i, line in enumerate(lines):\n",
    "    if \"measure\" in line and \"repeat\" in line:\n",
    "        print(i, line)"
   ]
  },
  {
   "cell_type": "code",
   "execution_count": null,
   "id": "86ae8050",
   "metadata": {},
   "outputs": [],
   "source": []
  }
 ],
 "metadata": {
  "interpreter": {
   "hash": "7267be1539d73ab39c112814417f18c4975d99ab747a8f8d4d84d1f2aa9dc97a"
  },
  "kernelspec": {
   "display_name": "Python 3.7.0 64-bit",
   "language": "python",
   "name": "python3"
  },
  "language_info": {
   "codemirror_mode": {
    "name": "ipython",
    "version": 3
   },
   "file_extension": ".py",
   "mimetype": "text/x-python",
   "name": "python",
   "nbconvert_exporter": "python",
   "pygments_lexer": "ipython3",
   "version": "3.7.0"
  }
 },
 "nbformat": 4,
 "nbformat_minor": 5
}
