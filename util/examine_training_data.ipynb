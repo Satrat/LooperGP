{
 "cells": [
  {
   "cell_type": "code",
   "execution_count": 1,
   "id": "68f8aa98-2407-4e60-a205-25862cde47d7",
   "metadata": {},
   "outputs": [],
   "source": [
    "import numpy as np\n",
    "import pickle\n",
    "import os"
   ]
  },
  {
   "cell_type": "code",
   "execution_count": 13,
   "id": "828badfc-489b-4de5-84b4-1ac419018afb",
   "metadata": {},
   "outputs": [],
   "source": [
    "training_data = np.load(\"../data/fulldataset-song-artist-train_data_XL.npz\")\n",
    "event2word = pickle.load(open('../data/vocab_song_artist.pkl', 'rb'))\n",
    "word2event = pickle.load(open('../data/rev_vocab_song_artist.pkl', 'rb'))"
   ]
  },
  {
   "cell_type": "code",
   "execution_count": 11,
   "id": "4a1c311f",
   "metadata": {},
   "outputs": [
    {
     "name": "stdout",
     "output_type": "stream",
     "text": [
      "5.1928136348724365 GB\n"
     ]
    }
   ],
   "source": [
    "train_size = os.path.getsize(\"D://Documents//DATA//DadaGP-4-16-lps-3-dens-per-inst//splitted_train_data_XL.npz\")\n",
    "test_size = os.path.getsize(\"D://Documents//DATA//DadaGP-4-16-lps-3-dens-per-inst//splitted_test_data_XL.npz\")\n",
    "total_size = train_size + test_size\n",
    "print(total_size * 1.0 / (1024 * 1024 * 1024), \"GB\")"
   ]
  },
  {
   "cell_type": "code",
   "execution_count": 14,
   "id": "fafcf521-e527-4e23-86dc-95c032536b1b",
   "metadata": {},
   "outputs": [
    {
     "name": "stdout",
     "output_type": "stream",
     "text": [
      "['x', 'y', 'mask', 'seq_len', 'num_groups']\n"
     ]
    }
   ],
   "source": [
    "print(training_data.files)"
   ]
  },
  {
   "cell_type": "code",
   "execution_count": 15,
   "id": "8c240140-0de2-49e8-802c-25d5406c598b",
   "metadata": {},
   "outputs": [
    {
     "name": "stdout",
     "output_type": "stream",
     "text": [
      "(19930, 40, 512) float64\n",
      "(19930, 40, 512) float64\n",
      "(19930, 40, 512) float64\n",
      "(19930,) int64\n",
      "(19930,) int64\n"
     ]
    }
   ],
   "source": [
    "print(training_data['x'].shape, training_data['x'].dtype)\n",
    "print(training_data['y'].shape, training_data['y'].dtype)\n",
    "print(training_data['mask'].shape, training_data['mask'].dtype)\n",
    "print(training_data['seq_len'].shape, training_data['seq_len'].dtype)\n",
    "print(training_data['num_groups'].shape, training_data['num_groups'].dtype)"
   ]
  },
  {
   "cell_type": "code",
   "execution_count": null,
   "id": "0bdd889e-8e37-4dfe-8db6-8cbeae8bc3c5",
   "metadata": {},
   "outputs": [],
   "source": [
    "IDX = 25\n",
    "print(training_data['x'][IDX])\n",
    "print(training_data['y'][IDX])\n",
    "print(training_data['mask'][IDX])\n",
    "print(training_data['seq_len'][IDX])\n",
    "print(training_data['num_groups'][IDX])"
   ]
  },
  {
   "cell_type": "code",
   "execution_count": null,
   "id": "9dd4f13b",
   "metadata": {},
   "outputs": [],
   "source": [
    "folder = \"D:/Documents/DATA/DadaGP-v1.1/D/Disturbed\"\n",
    "file = \"Disturbed - Down with the Sickness.gp3.tokens.txt\"\n",
    "full_path = os.path.join(folder, file)\n",
    "lines = []\n",
    "with open(full_path) as file:\n",
    "    lines = [line.rstrip() for line in file]"
   ]
  },
  {
   "cell_type": "code",
   "execution_count": null,
   "id": "511fab45",
   "metadata": {},
   "outputs": [],
   "source": [
    "for i, line in enumerate(lines):\n",
    "    if \"measure\" in line and \"repeat\" in line:\n",
    "        print(i, line)"
   ]
  },
  {
   "cell_type": "code",
   "execution_count": null,
   "id": "0e020a58",
   "metadata": {},
   "outputs": [],
   "source": [
    "from music21 import *"
   ]
  },
  {
   "cell_type": "code",
   "execution_count": null,
   "id": "3bdb515c",
   "metadata": {},
   "outputs": [],
   "source": [
    "s = converter.parse(\"disturbed_midi_test.mid\")\n",
    "sChords = s.chordify()\n",
    "sFlat = sChords.flatten()"
   ]
  },
  {
   "cell_type": "code",
   "execution_count": null,
   "id": "4ef9d964",
   "metadata": {},
   "outputs": [],
   "source": [
    "key_est = sChords.analyze('key')\n",
    "by_measure = sFlat.makeMeasures()"
   ]
  },
  {
   "cell_type": "code",
   "execution_count": null,
   "id": "540f5f81",
   "metadata": {},
   "outputs": [],
   "source": [
    "by_measure.show('text')"
   ]
  },
  {
   "cell_type": "code",
   "execution_count": null,
   "id": "d27cd9a8",
   "metadata": {},
   "outputs": [],
   "source": [
    "for c in sFlat.getElementsByClass('Chord'):\n",
    "    rn = roman.romanNumeralFromChord(c, key_est)\n",
    "    print(rn)"
   ]
  },
  {
   "cell_type": "code",
   "execution_count": null,
   "id": "05b02fe6",
   "metadata": {},
   "outputs": [],
   "source": [
    "for m in by_measure:\n",
    "    print(m.analyze('key'))"
   ]
  },
  {
   "cell_type": "code",
   "execution_count": null,
   "id": "40d12fdb",
   "metadata": {},
   "outputs": [],
   "source": [
    "s = converter.parse(\"back_in_black.mid\")\n",
    "sChords = s.chordify()\n",
    "sFlat = sChords.flatten()\n",
    "key_est = sChords.analyze('key')\n",
    "prev_deg = None\n",
    "prev_alt = None\n",
    "for c in sFlat.getElementsByClass('Chord'):\n",
    "    if len(set(c.pitchClasses)) > 1:\n",
    "        rn = roman.romanNumeralFromChord(c, key_est)\n",
    "        deg, alt = rn.scaleDegreeWithAlteration\n",
    "        if deg != prev_deg or alt != prev_alt:\n",
    "            prev_deg = deg\n",
    "            prev_alt = alt\n",
    "            alt_str = \"\"\n",
    "            if alt is not None:\n",
    "                alt_str = str(alt).replace(\"flat\", \"b\").replace(\"sharp\", \"#\")\n",
    "            c.addLyric(alt_str + str(deg))\n",
    "\n",
    "sFlat.write(\"musicxml\", \"chord_test.mxl\")\n",
    "#sFlat.show() #doesn't seem to work in notebook"
   ]
  },
  {
   "cell_type": "code",
   "execution_count": null,
   "id": "774bf9fb",
   "metadata": {},
   "outputs": [],
   "source": [
    "s = converter.parse(\"disturbed_midi_test.mid\")\n",
    "sChords = s.chordify()\n",
    "sFlat = sChords.flatten()\n",
    "key_est = sChords.analyze('key')\n",
    "prev_deg = None\n",
    "prev_alt = None\n",
    "for c in sFlat.getElementsByClass('Chord'):\n",
    "    if len(set(c.pitchClasses)) > 1:\n",
    "        rn = roman.romanNumeralFromChord(c, key_est)\n",
    "        deg, alt = rn.scaleDegreeWithAlteration\n",
    "        if deg != prev_deg or alt != prev_alt:\n",
    "            prev_deg = deg\n",
    "            prev_alt = alt\n",
    "            alt_str = \"\"\n",
    "            if alt is not None:\n",
    "                alt_str = str(alt).replace(\"flat\", \"b\").replace(\"sharp\", \"#\")\n",
    "            c.addLyric(alt_str + str(deg))\n",
    "\n",
    "sFlat.write(\"musicxml\", \"chord_test2.mxl\")"
   ]
  },
  {
   "cell_type": "code",
   "execution_count": null,
   "id": "722d4e02",
   "metadata": {},
   "outputs": [],
   "source": [
    "s = converter.parse(\"bach_ex.mid\")\n",
    "sChords = s.chordify()\n",
    "sFlat = sChords.flatten()\n",
    "key_est = sChords.analyze('key')\n",
    "prev_deg = None\n",
    "prev_alt = None\n",
    "for c in sFlat.getElementsByClass('Chord'):\n",
    "    if len(set(c.pitchClasses)) > 1:\n",
    "        rn = roman.romanNumeralFromChord(c, key_est)\n",
    "        deg, alt = rn.scaleDegreeWithAlteration\n",
    "        if deg != prev_deg or alt != prev_alt:\n",
    "            prev_deg = deg\n",
    "            prev_alt = alt\n",
    "            alt_str = \"\"\n",
    "            if alt is not None:\n",
    "                alt_str = str(alt).replace(\"flat\", \"b\").replace(\"sharp\", \"#\")\n",
    "            c.addLyric(alt_str + str(deg))\n",
    "\n",
    "sFlat.write(\"musicxml\", \"chord_test3.mxl\")"
   ]
  },
  {
   "cell_type": "code",
   "execution_count": 6,
   "id": "0ac474f3",
   "metadata": {},
   "outputs": [],
   "source": [
    "text_file = open(\"../primer.txt\", \"r\")\n",
    "lines = text_file.read().split('\\n')"
   ]
  },
  {
   "cell_type": "code",
   "execution_count": 7,
   "id": "ad0365a4",
   "metadata": {},
   "outputs": [
    {
     "name": "stdout",
     "output_type": "stream",
     "text": [
      "['distorted0:note:s5:f3', 'bass:note:s4:f3', 'drums:note:42', 'drums:note:36', 'wait:240', 'drums:note:36', 'wait:240', 'drums:note:42', 'drums:note:36', 'wait:240', 'drums:note:36', 'wait:240', 'distorted0:note:s3:f0', 'drums:note:42', 'drums:note:38', 'drums:note:36', 'wait:240', 'drums:note:36', 'wait:240', 'distorted0:note:s2:f0', 'drums:note:42', 'drums:note:36', 'wait:240', 'drums:note:36', 'wait:240', 'distorted0:note:s2:f0', 'nfx:tie', 'drums:note:42', 'drums:note:36', 'wait:240', 'drums:note:36', 'wait:240', 'distorted0:note:s2:f0', 'drums:note:42', 'drums:note:36', 'wait:240', 'drums:note:36', 'wait:240', 'distorted0:note:s3:f0', 'drums:note:42', 'drums:note:38', 'drums:note:36', 'wait:240', 'drums:note:36', 'wait:240', 'drums:note:42', 'drums:note:36', 'wait:240', 'drums:note:36', 'wait:240']\n"
     ]
    }
   ],
   "source": [
    "print(lines)"
   ]
  },
  {
   "cell_type": "code",
   "execution_count": null,
   "id": "5bcb7624",
   "metadata": {},
   "outputs": [],
   "source": []
  }
 ],
 "metadata": {
  "interpreter": {
   "hash": "7267be1539d73ab39c112814417f18c4975d99ab747a8f8d4d84d1f2aa9dc97a"
  },
  "kernelspec": {
   "display_name": "Python 3.7.0 64-bit",
   "language": "python",
   "name": "python3"
  },
  "language_info": {
   "codemirror_mode": {
    "name": "ipython",
    "version": 3
   },
   "file_extension": ".py",
   "mimetype": "text/x-python",
   "name": "python",
   "nbconvert_exporter": "python",
   "pygments_lexer": "ipython3",
   "version": "3.7.0"
  }
 },
 "nbformat": 4,
 "nbformat_minor": 5
}
