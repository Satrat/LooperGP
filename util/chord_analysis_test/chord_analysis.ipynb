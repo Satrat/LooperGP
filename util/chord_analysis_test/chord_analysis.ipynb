{
 "cells": [
  {
   "cell_type": "code",
   "execution_count": 1,
   "id": "0e020a58",
   "metadata": {},
   "outputs": [],
   "source": [
    "from music21 import *"
   ]
  },
  {
   "cell_type": "code",
   "execution_count": null,
   "id": "3bdb515c",
   "metadata": {},
   "outputs": [],
   "source": [
    "s = converter.parse(\"disturbed_midi_test.mid\")\n",
    "sChords = s.chordify()\n",
    "sFlat = sChords.flatten()"
   ]
  },
  {
   "cell_type": "code",
   "execution_count": null,
   "id": "4ef9d964",
   "metadata": {},
   "outputs": [],
   "source": [
    "key_est = sChords.analyze('key')\n",
    "by_measure = sFlat.makeMeasures()"
   ]
  },
  {
   "cell_type": "code",
   "execution_count": null,
   "id": "540f5f81",
   "metadata": {},
   "outputs": [],
   "source": [
    "by_measure.show('text')"
   ]
  },
  {
   "cell_type": "code",
   "execution_count": null,
   "id": "d27cd9a8",
   "metadata": {},
   "outputs": [],
   "source": [
    "for c in sFlat.getElementsByClass('Chord'):\n",
    "    rn = roman.romanNumeralFromChord(c, key_est)\n",
    "    print(rn)"
   ]
  },
  {
   "cell_type": "code",
   "execution_count": null,
   "id": "05b02fe6",
   "metadata": {},
   "outputs": [],
   "source": [
    "for m in by_measure:\n",
    "    print(m.analyze('key'))"
   ]
  },
  {
   "cell_type": "code",
   "execution_count": null,
   "id": "1d5c601c",
   "metadata": {},
   "outputs": [],
   "source": [
    "s = converter.parse(\"disturbed_midi_test.mid\")\n",
    "sChords = s.chordify()\n",
    "sFlat = sChords.flatten()\n",
    "key_est = sChords.analyze('key')\n",
    "prev_deg = None\n",
    "prev_alt = None\n",
    "for c in sFlat.getElementsByClass('Chord'):\n",
    "    if len(set(c.pitchClasses)) > 1:\n",
    "        rn = roman.romanNumeralFromChord(c, key_est)\n",
    "        deg, alt = rn.scaleDegreeWithAlteration\n",
    "        if deg != prev_deg or alt != prev_alt:\n",
    "            prev_deg = deg\n",
    "            prev_alt = alt\n",
    "            alt_str = \"\"\n",
    "            if alt is not None:\n",
    "                alt_str = str(alt).replace(\"flat\", \"b\").replace(\"sharp\", \"#\")\n",
    "            c.addLyric(alt_str + str(deg))\n",
    "\n",
    "sFlat.write(\"musicxml\", \"chord_test.mxl\")"
   ]
  },
  {
   "cell_type": "code",
   "execution_count": null,
   "id": "40d12fdb",
   "metadata": {},
   "outputs": [],
   "source": [
    "s = converter.parse(\"back_in_black.mid\")\n",
    "sChords = s.chordify()\n",
    "sFlat = sChords.flatten()\n",
    "key_est = sChords.analyze('key')\n",
    "prev_deg = None\n",
    "prev_alt = None\n",
    "for c in sFlat.getElementsByClass('Chord'):\n",
    "    if len(set(c.pitchClasses)) > 1:\n",
    "        rn = roman.romanNumeralFromChord(c, key_est)\n",
    "        deg, alt = rn.scaleDegreeWithAlteration\n",
    "        if deg != prev_deg or alt != prev_alt:\n",
    "            prev_deg = deg\n",
    "            prev_alt = alt\n",
    "            alt_str = \"\"\n",
    "            if alt is not None:\n",
    "                alt_str = str(alt).replace(\"flat\", \"b\").replace(\"sharp\", \"#\")\n",
    "            c.addLyric(alt_str + str(deg))\n",
    "\n",
    "sFlat.write(\"musicxml\", \"chord_test.mxl\")\n",
    "#sFlat.show() #doesn't seem to work in notebook"
   ]
  },
  {
   "cell_type": "code",
   "execution_count": null,
   "id": "774bf9fb",
   "metadata": {},
   "outputs": [],
   "source": [
    "s = converter.parse(\"disturbed_midi_test.mid\")\n",
    "sChords = s.chordify()\n",
    "sFlat = sChords.flatten()\n",
    "key_est = sChords.analyze('key')\n",
    "prev_deg = None\n",
    "prev_alt = None\n",
    "for c in sFlat.getElementsByClass('Chord'):\n",
    "    if len(set(c.pitchClasses)) > 1:\n",
    "        rn = roman.romanNumeralFromChord(c, key_est)\n",
    "        deg, alt = rn.scaleDegreeWithAlteration\n",
    "        if deg != prev_deg or alt != prev_alt:\n",
    "            prev_deg = deg\n",
    "            prev_alt = alt\n",
    "            alt_str = \"\"\n",
    "            if alt is not None:\n",
    "                alt_str = str(alt).replace(\"flat\", \"b\").replace(\"sharp\", \"#\")\n",
    "            c.addLyric(alt_str + str(deg))\n",
    "\n",
    "sFlat.write(\"musicxml\", \"chord_test2.mxl\")"
   ]
  },
  {
   "cell_type": "code",
   "execution_count": null,
   "id": "722d4e02",
   "metadata": {},
   "outputs": [],
   "source": [
    "s = converter.parse(\"bach_ex.mid\")\n",
    "sChords = s.chordify()\n",
    "sFlat = sChords.flatten()\n",
    "key_est = sChords.analyze('key')\n",
    "prev_deg = None\n",
    "prev_alt = None\n",
    "for c in sFlat.getElementsByClass('Chord'):\n",
    "    if len(set(c.pitchClasses)) > 1:\n",
    "        rn = roman.romanNumeralFromChord(c, key_est)\n",
    "        deg, alt = rn.scaleDegreeWithAlteration\n",
    "        if deg != prev_deg or alt != prev_alt:\n",
    "            prev_deg = deg\n",
    "            prev_alt = alt\n",
    "            alt_str = \"\"\n",
    "            if alt is not None:\n",
    "                alt_str = str(alt).replace(\"flat\", \"b\").replace(\"sharp\", \"#\")\n",
    "            c.addLyric(alt_str + str(deg))\n",
    "\n",
    "sFlat.write(\"musicxml\", \"chord_test3.mxl\")"
   ]
  },
  {
   "cell_type": "code",
   "execution_count": null,
   "id": "5bcb7624",
   "metadata": {},
   "outputs": [],
   "source": []
  }
 ],
 "metadata": {
  "interpreter": {
   "hash": "7267be1539d73ab39c112814417f18c4975d99ab747a8f8d4d84d1f2aa9dc97a"
  },
  "kernelspec": {
   "display_name": "Python 3.7.0 64-bit",
   "language": "python",
   "name": "python3"
  },
  "language_info": {
   "codemirror_mode": {
    "name": "ipython",
    "version": 3
   },
   "file_extension": ".py",
   "mimetype": "text/x-python",
   "name": "python",
   "nbconvert_exporter": "python",
   "pygments_lexer": "ipython3",
   "version": "3.7.0"
  }
 },
 "nbformat": 4,
 "nbformat_minor": 5
}
