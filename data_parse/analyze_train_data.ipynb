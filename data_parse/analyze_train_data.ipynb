{
 "cells": [
  {
   "cell_type": "code",
   "execution_count": null,
   "id": "00dc20a4-cb07-4ee0-9506-b6466efa2084",
   "metadata": {},
   "outputs": [],
   "source": [
    "import guitarpro\n",
    "import dadagp as dada\n",
    "import numpy as np\n",
    "import matplotlib.pyplot as plt\n",
    "import math\n",
    "import os\n",
    "import json"
   ]
  },
  {
   "cell_type": "code",
   "execution_count": null,
   "id": "b5ff4276-b95d-44cb-bde4-40e7f9191d67",
   "metadata": {},
   "outputs": [],
   "source": [
    "#path to test file\n",
    "DADAGP_PATH = \"acdc_ex.txt\"\n",
    "GP_PATH = \"../util/test_acdc.gp5\"\n",
    "PREFIX = \"./test_loops_out/acdc_test\""
   ]
  },
  {
   "cell_type": "code",
   "execution_count": null,
   "id": "07f0ea1c",
   "metadata": {},
   "outputs": [],
   "source": [
    "#snippet for extracting time signatures\n",
    "\n",
    "song = guitarpro.parse(GP_PATH) #check if one time signature throughout, calculate min/max beat lengths based on it\n",
    "timeSignatures = {}\n",
    "for measure in song.tracks[0].measures[0:10]:\n",
    "    signature = (measure.timeSignature.numerator, measure.timeSignature.denominator.value)\n",
    "    if signature in timeSignatures.keys():\n",
    "        timeSignatures[signature] += 1\n",
    "    else:\n",
    "        timeSignatures[signature] = 1\n",
    "    print(measure.timeSignature.numerator, measure.timeSignature.denominator.value)"
   ]
  },
  {
   "cell_type": "code",
   "execution_count": null,
   "id": "22fd62bf",
   "metadata": {},
   "outputs": [],
   "source": [
    "#create the json file for names of all the loop files\n",
    "\n",
    "root_dir = \"D:\\Documents\\DATA\\DadaGP-Loops\"\n",
    "file_list = []\n",
    "for subdir, dirs, files in os.walk(root_dir):\n",
    "    short_subdir = subdir.replace(root_dir + \"\\\\\", \"\")\n",
    "    for file in files:\n",
    "        if file.endswith(\".txt\"):\n",
    "            full_path = os.path.join(short_subdir, file)\n",
    "            file_list.append(full_path)\n",
    "\n",
    "#save that file list to json\n",
    "root_dir = \"D:\\Documents\\DATA\\DadaGP-Loops\"\n",
    "path_json = os.path.join(root_dir, \"_DadaGP_LOOPS_all_filenames.json\")\n",
    "with open(path_json, 'w') as f:\n",
    "    json.dump(file_list, f)"
   ]
  },
  {
   "cell_type": "code",
   "execution_count": null,
   "id": "023ff59d",
   "metadata": {},
   "outputs": [],
   "source": [
    "#helper function for finding number of empty bars in a track\n",
    "\n",
    "def calc_empty_tracks(test_file):\n",
    "    song = guitarpro.parse(test_file)\n",
    "    empty_tracks = 0\n",
    "    total_tracks = len(song.tracks)\n",
    "    for track in song.tracks:\n",
    "        empty_bars = 0\n",
    "        total_bars = len(track.measures)\n",
    "        for measure in track.measures:\n",
    "            non_rests = 0\n",
    "            for beat in measure.voices[0].beats:\n",
    "                for note in beat.notes:\n",
    "                    if note.type != guitarpro.NoteType.rest:\n",
    "                        non_rests = non_rests + 1\n",
    "            if non_rests == 0:\n",
    "                empty_bars = empty_bars + 1\n",
    "        if empty_bars == total_bars:\n",
    "            empty_tracks = empty_tracks + 1\n",
    "    return empty_tracks, total_tracks"
   ]
  },
  {
   "cell_type": "code",
   "execution_count": null,
   "id": "88be6712",
   "metadata": {},
   "outputs": [],
   "source": [
    "# report the number of empty bars across all tracks\n",
    "import json\n",
    "\n",
    "root_path = \"D:\\Documents\\DATA\\DadaGP-4-8-lps-3-dens-per-inst-hard-reps\"\n",
    "allfiles_path = os.path.join(root_path,\"file_list_loops.json\" )\n",
    "with open(allfiles_path, \"r\") as f:\n",
    "    allfiles =  json.load(f)\n",
    "\n",
    "n_files = len(allfiles)\n",
    "total_tracks = 0\n",
    "empty_tracks = 0\n",
    "for fidx in range(n_files):   \n",
    "    fn = allfiles[fidx].replace(\".txt\", \".gp5\")\n",
    "    file = os.path.join(root_path, fn)\n",
    "    empty, total = calc_empty_tracks(file)\n",
    "    total_tracks = total_tracks + total\n",
    "    empty_tracks = empty_tracks + empty\n",
    "\n",
    "print(\"{} empty tracks out of {} total tracks\".format(empty_tracks, total_tracks))"
   ]
  },
  {
   "cell_type": "code",
   "execution_count": null,
   "id": "9ec6329e",
   "metadata": {},
   "outputs": [],
   "source": [
    "35003.0 / 176703.0 #percentage of empty tracks in original loop dataset"
   ]
  },
  {
   "cell_type": "code",
   "execution_count": null,
   "id": "3ab61560",
   "metadata": {},
   "outputs": [],
   "source": [
    "#get max number of tokens in dataset and average\n",
    "\n",
    "root_path = \"D:\\Documents\\DATA\\DadaGP-v1.1\"\n",
    "allfiles_path = os.path.join(root_path,\"_DadaGP_all_filenames.json\" )\n",
    "with open(allfiles_path, \"r\") as f:\n",
    "    allfiles =  json.load(f)\n",
    "\n",
    "n_files = len(allfiles)\n",
    "max_lines = 0\n",
    "total_lines = 0\n",
    "max_song = None\n",
    "for fidx in range(n_files):   \n",
    "    fn = allfiles[fidx]\n",
    "    file = os.path.join(root_path, fn)\n",
    "    try:\n",
    "        with open(file) as f:\n",
    "            num_lines = len(f.readlines())\n",
    "            total_lines += num_lines\n",
    "            if num_lines > max_lines:\n",
    "                max_lines = num_lines\n",
    "                max_song = fn\n",
    "    except:\n",
    "        print(\"skipping \", file)\n",
    "        continue\n",
    "print(\"{} maximum token length from {}\".format(max_lines, max_song))\n",
    "print(\"{} average tokens per song\".format(total_lines * 1.0 /n_files))"
   ]
  },
  {
   "cell_type": "code",
   "execution_count": null,
   "id": "60ca21c0",
   "metadata": {},
   "outputs": [],
   "source": [
    "#average tracks per loop\n",
    "\n",
    "root_path = \"D:\\Documents\\DATA\\DadaGP-Loops\"\n",
    "allfiles_path = os.path.join(root_path,\"file_list.json\" )\n",
    "with open(allfiles_path, \"r\") as f:\n",
    "    allfiles =  json.load(f)\n",
    "\n",
    "n_files = len(allfiles)\n",
    "total_tracks = 0\n",
    "for fidx in range(n_files):   \n",
    "    fn = allfiles[fidx].replace(\".txt\", \".gp5\")\n",
    "    file = os.path.join(root_path, fn)\n",
    "    song = guitarpro.parse(file)\n",
    "    total_tracks = total_tracks + len(song.tracks)\n",
    "print(\"{} average tracks per file\".format(total_tracks * 1.0 / n_files))"
   ]
  },
  {
   "cell_type": "code",
   "execution_count": null,
   "id": "c24a9599",
   "metadata": {},
   "outputs": [],
   "source": [
    "#print out all the repeats in a test song\n",
    "test_file = \"D:\\\\Documents\\\\DATA\\\\DadaGP-v1.1\\\\1\\\\1349\\\\1349 - Deathmarch.gp4\"\n",
    "song = guitarpro.parse(test_file)\n",
    "for i, measure in enumerate(song.tracks[0].measures):\n",
    "    if measure.header.isRepeatOpen:\n",
    "        print(\"repeat open at {}\".format(i))\n",
    "    elif measure.header.repeatClose > -1:\n",
    "        print(\"repeat close {}x at {}\".format(measure.header.repeatClose, i))\n",
    "#isRepeatOpen will be true at the beginning of the repeat. repeatClose is an int that appears in the measure of the closing repeat\n",
    "#number repeats does not include first playthrough\n"
   ]
  },
  {
   "cell_type": "code",
   "execution_count": null,
   "id": "9ad5e759",
   "metadata": {},
   "outputs": [],
   "source": [
    "#analyze test file with alternate endings\n",
    "\n",
    "test_file = \"D:\\\\Documents\\\\DATA\\\\DadaGP-v1.1\\\\3\\\\3 Inches Of Blood\\\\3 Inches Of Blood - Balls Of Ice.gp4\"\n",
    "song = guitarpro.parse(test_file)\n",
    "for i, measure in enumerate(song.tracks[0].measures):\n",
    "    if measure.header.isRepeatOpen:\n",
    "        print(\"repeat open at {}\".format(i))\n",
    "    elif measure.header.repeatClose > -1:\n",
    "        print(\"repeat close {}x at {}\".format(measure.header.repeatClose, i))\n",
    "    elif measure.header.repeatAlternative > 0:\n",
    "        print(\"repeat alt {} at {}\".format(measure.header.repeatAlternative, i))"
   ]
  },
  {
   "cell_type": "code",
   "execution_count": null,
   "id": "24bb6da9",
   "metadata": {},
   "outputs": [],
   "source": [
    "#code for reformatting the data parallel model\n",
    "import torch\n",
    "from collections import OrderedDict\n",
    "\n",
    "# original saved file with DataParallel\n",
    "model = torch.load('../outputs/5_lat102420220714-235039/parallel_ep_40.pth.tar')\n",
    "\n",
    "# create new OrderedDict that does not contain `module.`\n",
    "new_state_dict = OrderedDict()\n",
    "for k, v in model['state_dict'].items():\n",
    "    name = k[7:] # remove `module.`\n",
    "    new_state_dict[name] = v\n",
    "    \n",
    "# load params\n",
    "model['state_dict'] = new_state_dict\n",
    "torch.save(model, '../outputs/5_lat102420220714-235039/ep_40.pth.tar')"
   ]
  }
 ],
 "metadata": {
  "kernelspec": {
   "display_name": "Python 3.7.0 ('env')",
   "language": "python",
   "name": "python3"
  },
  "language_info": {
   "codemirror_mode": {
    "name": "ipython",
    "version": 3
   },
   "file_extension": ".py",
   "mimetype": "text/x-python",
   "name": "python",
   "nbconvert_exporter": "python",
   "pygments_lexer": "ipython3",
   "version": "3.7.0"
  },
  "vscode": {
   "interpreter": {
    "hash": "ad41e0d2c78ece94b277de777bb1902fc9e335e19d2884f562c7160c6a6d1eb4"
   }
  }
 },
 "nbformat": 4,
 "nbformat_minor": 5
}
