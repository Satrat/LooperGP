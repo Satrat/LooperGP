{
 "cells": [
  {
   "cell_type": "code",
   "execution_count": 9,
   "metadata": {},
   "outputs": [],
   "source": [
    "import sys\n",
    "sys.path.append(\"..\")\n",
    "import json\n",
    "import random\n",
    "import dadagp\n",
    "import os\n",
    "from model_ead import TransformerXL\n",
    "import make_loops as loops"
   ]
  },
  {
   "cell_type": "code",
   "execution_count": null,
   "metadata": {},
   "outputs": [],
   "source": [
    "FILELIST_PATH = \"file_list.txt\"\n",
    "ROOT_PATH = \"\"\n",
    "OUTPUT_PATH = \"\"\n",
    "NUM_SAMPLES = 25\n",
    "MODEL_PATH = \"../model-weights/desktop_trained/ep_30.pth.tar\""
   ]
  },
  {
   "cell_type": "code",
   "execution_count": null,
   "metadata": {},
   "outputs": [],
   "source": [
    "with open(FILELIST_PATH, \"r\") as f:\n",
    "    file_list =  json.load(f)\n",
    "num_files = len(file_list)"
   ]
  },
  {
   "cell_type": "code",
   "execution_count": null,
   "metadata": {},
   "outputs": [],
   "source": [
    "sampled_idxes = random.sample(range(num_files), NUM_SAMPLES)"
   ]
  },
  {
   "cell_type": "code",
   "execution_count": null,
   "metadata": {},
   "outputs": [],
   "source": [
    "human_sample_data = {}\n",
    "primers = []\n",
    "for id, idx in enumerate(sampled_idxes):\n",
    "    filepath = file_list[idx]\n",
    "    file = os.path.join(ROOT_PATH, file_list[idx])\n",
    "    with open(file, \"r\") as f:\n",
    "        text = f.read()\n",
    "    list_words = text.split(\"\\n\")\n",
    "\n",
    "    header_data = list_words[:5]\n",
    "    main_data = list_words[5:]\n",
    "\n",
    "    num_measures = 0\n",
    "    measure_idx = []\n",
    "    for i,token in enumerate(main_data):\n",
    "        if token == \"new_measure\":\n",
    "            num_measures += 1\n",
    "            measure_idx.append(i)\n",
    "    num_segments = num_measures / 4\n",
    "    measure_idx.append(len(main_data))\n",
    "\n",
    "    rand_segment = random.randint(0, num_segments)\n",
    "    human_sample_data[id] = rand_segment, filepath\n",
    "    measure_start = rand_segment * 4\n",
    "\n",
    "    start_idx = measure_idx[measure_start]\n",
    "    end_idx = measure_idx[measure_start + 5]\n",
    "\n",
    "    final_loop = header_data + main_data[start_idx:end_idx]\n",
    "    primer = []\n",
    "    for token in final_loop:\n",
    "        if \"wait:\" in token:\n",
    "            break\n",
    "        if \"artist:\" in token:\n",
    "            primer.append(\"artist:unknown_artist\")\n",
    "        else:\n",
    "            primer.append(token)\n",
    "    primers.append(primer)\n",
    "\n",
    "    token_path = os.path.join(OUTPUT_PATH, \"human\", \"ex_\" + str(id) + \".txt\")\n",
    "    dadagp_path = os.path.join(OUTPUT_PATH, \"human\", \"ex_\" + str(id) + \".txt\")\n",
    "    file_out = open(token_path, \"w\")\n",
    "    file_out.write(\"\\n\".join(final_loop))\n",
    "    file_out.close()\n",
    "    dadagp.dadagp_decode(token_path, dadagp_path)\n",
    "\n",
    "path_json = os.path.join(OUTPUT_PATH, \"sampled_loops_info.json\")\n",
    "with open(path_json, 'w') as f:\n",
    "    json.dump(human_sample_data, f)\n"
   ]
  },
  {
   "cell_type": "code",
   "execution_count": null,
   "metadata": {},
   "outputs": [],
   "source": [
    "T = 1.2\n",
    "P = 0.9\n",
    "NUM_BARS = 16\n",
    "LOOP_SIZE = 4\n",
    "MIN_LEN = 4\n",
    "MIN_REP_BEATS = 2.0\n",
    "for idx, primer in primers:\n",
    "    generated = TransformerXL.inference_single_from_primer(MODEL_PATH, ['temperature', 'nucleus'], {'t': T ,'p': P, 'num_bars': NUM_BARS}, primer)\n",
    "    #convert generated list to guitarpro\n",
    "    track_list, time_signatures = loops.create_track_list(song)\n",
    "    beats_per_bar = loops.get_dom_beats_per_bar(time_signatures)\n",
    "    min_beats = beats_per_bar * LOOP_SIZE\n",
    "    max_beats = beats_per_bar * LOOP_SIZE\n",
    "    lead_mat, lead_dur, melody_seq = loops.calc_correlation(track_list, 0) #assuming first instrument is most loopable\n",
    "    _, loop_endpoints = loops.get_valid_loops(melody_seq, lead_mat, lead_dur, min_len=MIN_LEN, min_beats=min_beats, max_beats=max_beats, min_rep_beats=MIN_REP_BEATS)\n",
    "    #randomly pick one of the endpoints\n",
    "    #convert endpoint to dadagp\n",
    "    "
   ]
  }
 ],
 "metadata": {
  "kernelspec": {
   "display_name": "Python 3.9.12 ('env': venv)",
   "language": "python",
   "name": "python3"
  },
  "language_info": {
   "codemirror_mode": {
    "name": "ipython",
    "version": 3
   },
   "file_extension": ".py",
   "mimetype": "text/x-python",
   "name": "python",
   "nbconvert_exporter": "python",
   "pygments_lexer": "ipython3",
   "version": "3.9.12"
  },
  "orig_nbformat": 4,
  "vscode": {
   "interpreter": {
    "hash": "b92abd4b677094ea2ae360308ec8b07e5160721c358e1149df4bee017d0378b7"
   }
  }
 },
 "nbformat": 4,
 "nbformat_minor": 2
}
