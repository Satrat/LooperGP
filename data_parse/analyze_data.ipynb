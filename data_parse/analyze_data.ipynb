{
 "cells": [
  {
   "cell_type": "code",
   "execution_count": 7,
   "id": "00dc20a4-cb07-4ee0-9506-b6466efa2084",
   "metadata": {},
   "outputs": [],
   "source": [
    "import guitarpro\n",
    "import dadagp as dada\n",
    "import numpy as np\n",
    "import matplotlib.pyplot as plt\n",
    "import math\n",
    "import os\n",
    "import json"
   ]
  },
  {
   "cell_type": "code",
   "execution_count": 2,
   "id": "b5ff4276-b95d-44cb-bde4-40e7f9191d67",
   "metadata": {},
   "outputs": [],
   "source": [
    "DADAGP_PATH = \"acdc_ex.txt\"\n",
    "GP_PATH = \"../util/test_acdc.gp5\"\n",
    "PREFIX = \"./test_loops_out/acdc_test\""
   ]
  },
  {
   "cell_type": "code",
   "execution_count": 3,
   "id": "07f0ea1c",
   "metadata": {},
   "outputs": [
    {
     "name": "stdout",
     "output_type": "stream",
     "text": [
      "4 4\n",
      "4 4\n",
      "4 4\n",
      "4 4\n",
      "4 4\n",
      "4 4\n",
      "4 4\n",
      "4 4\n",
      "4 4\n",
      "4 4\n"
     ]
    }
   ],
   "source": [
    "#snippet for extracting time signatures\n",
    "\n",
    "song = guitarpro.parse(GP_PATH) #check if one time signature throughout, calculate min/max beat lengths based on it\n",
    "timeSignatures = {}\n",
    "for measure in song.tracks[0].measures[0:10]:\n",
    "    signature = (measure.timeSignature.numerator, measure.timeSignature.denominator.value)\n",
    "    if signature in timeSignatures.keys():\n",
    "        timeSignatures[signature] += 1\n",
    "    else:\n",
    "        timeSignatures[signature] = 1\n",
    "    print(measure.timeSignature.numerator, measure.timeSignature.denominator.value)\n",
    "    #print(measure.keySignature) #doesn't seem like this is accurate, just defaulting to CMaj. Could we auto extract key?\n",
    "#what to do if time signature changes? could just use most prominent? or split up song?"
   ]
  },
  {
   "cell_type": "code",
   "execution_count": null,
   "id": "22fd62bf",
   "metadata": {},
   "outputs": [],
   "source": [
    "#create the json file for names of all the loop files\n",
    "\n",
    "root_dir = \"D:\\Documents\\DATA\\DadaGP-Loops\"\n",
    "file_list = []\n",
    "for subdir, dirs, files in os.walk(root_dir):\n",
    "    short_subdir = subdir.replace(root_dir + \"\\\\\", \"\")\n",
    "    for file in files:\n",
    "        if file.endswith(\".txt\"):\n",
    "            full_path = os.path.join(short_subdir, file)\n",
    "            file_list.append(full_path)\n",
    "\n",
    "#save that file list to json\n",
    "root_dir = \"D:\\Documents\\DATA\\DadaGP-Loops\"\n",
    "path_json = os.path.join(root_dir, \"_DadaGP_LOOPS_all_filenames.json\")\n",
    "with open(path_json, 'w') as f:\n",
    "    json.dump(file_list, f)"
   ]
  },
  {
   "cell_type": "code",
   "execution_count": 5,
   "id": "023ff59d",
   "metadata": {},
   "outputs": [],
   "source": [
    "#helper function for finding number of empty bars in a track\n",
    "\n",
    "def calc_empty_tracks(test_file):\n",
    "    song = guitarpro.parse(test_file)\n",
    "    empty_tracks = 0\n",
    "    total_tracks = len(song.tracks)\n",
    "    for track in song.tracks:\n",
    "        empty_bars = 0\n",
    "        total_bars = len(track.measures)\n",
    "        for measure in track.measures:\n",
    "            non_rests = 0\n",
    "            for beat in measure.voices[0].beats:\n",
    "                for note in beat.notes:\n",
    "                    if note.type != guitarpro.NoteType.rest:\n",
    "                        non_rests = non_rests + 1\n",
    "            if non_rests == 0:\n",
    "                empty_bars = empty_bars + 1\n",
    "        if empty_bars == total_bars:\n",
    "            empty_tracks = empty_tracks + 1\n",
    "    return empty_tracks, total_tracks"
   ]
  },
  {
   "cell_type": "code",
   "execution_count": 8,
   "id": "88be6712",
   "metadata": {},
   "outputs": [
    {
     "ename": "KeyboardInterrupt",
     "evalue": "",
     "output_type": "error",
     "traceback": [
      "\u001b[1;31m---------------------------------------------------------------------------\u001b[0m",
      "\u001b[1;31mKeyboardInterrupt\u001b[0m                         Traceback (most recent call last)",
      "\u001b[1;32m~\\AppData\\Local\\Temp\\ipykernel_24064\\1536533293.py\u001b[0m in \u001b[0;36m<module>\u001b[1;34m\u001b[0m\n\u001b[0;32m     13\u001b[0m     \u001b[0mfn\u001b[0m \u001b[1;33m=\u001b[0m \u001b[0mallfiles\u001b[0m\u001b[1;33m[\u001b[0m\u001b[0mfidx\u001b[0m\u001b[1;33m]\u001b[0m\u001b[1;33m.\u001b[0m\u001b[0mreplace\u001b[0m\u001b[1;33m(\u001b[0m\u001b[1;34m\".txt\"\u001b[0m\u001b[1;33m,\u001b[0m \u001b[1;34m\".gp5\"\u001b[0m\u001b[1;33m)\u001b[0m\u001b[1;33m\u001b[0m\u001b[0m\n\u001b[0;32m     14\u001b[0m     \u001b[0mfile\u001b[0m \u001b[1;33m=\u001b[0m \u001b[0mos\u001b[0m\u001b[1;33m.\u001b[0m\u001b[0mpath\u001b[0m\u001b[1;33m.\u001b[0m\u001b[0mjoin\u001b[0m\u001b[1;33m(\u001b[0m\u001b[0mroot_path\u001b[0m\u001b[1;33m,\u001b[0m \u001b[0mfn\u001b[0m\u001b[1;33m)\u001b[0m\u001b[1;33m\u001b[0m\u001b[0m\n\u001b[1;32m---> 15\u001b[1;33m     \u001b[0mempty\u001b[0m\u001b[1;33m,\u001b[0m \u001b[0mtotal\u001b[0m \u001b[1;33m=\u001b[0m \u001b[0mcalc_empty_tracks\u001b[0m\u001b[1;33m(\u001b[0m\u001b[0mfile\u001b[0m\u001b[1;33m)\u001b[0m\u001b[1;33m\u001b[0m\u001b[0m\n\u001b[0m\u001b[0;32m     16\u001b[0m     \u001b[0mtotal_tracks\u001b[0m \u001b[1;33m=\u001b[0m \u001b[0mtotal_tracks\u001b[0m \u001b[1;33m+\u001b[0m \u001b[0mtotal\u001b[0m\u001b[1;33m\u001b[0m\u001b[0m\n\u001b[0;32m     17\u001b[0m     \u001b[0mempty_tracks\u001b[0m \u001b[1;33m=\u001b[0m \u001b[0mempty_tracks\u001b[0m \u001b[1;33m+\u001b[0m \u001b[0mempty\u001b[0m\u001b[1;33m\u001b[0m\u001b[0m\n",
      "\u001b[1;32m~\\AppData\\Local\\Temp\\ipykernel_24064\\608643247.py\u001b[0m in \u001b[0;36mcalc_empty_tracks\u001b[1;34m(test_file)\u001b[0m\n\u001b[0;32m      2\u001b[0m \u001b[1;33m\u001b[0m\u001b[0m\n\u001b[0;32m      3\u001b[0m \u001b[1;32mdef\u001b[0m \u001b[0mcalc_empty_tracks\u001b[0m\u001b[1;33m(\u001b[0m\u001b[0mtest_file\u001b[0m\u001b[1;33m)\u001b[0m\u001b[1;33m:\u001b[0m\u001b[1;33m\u001b[0m\u001b[0m\n\u001b[1;32m----> 4\u001b[1;33m     \u001b[0msong\u001b[0m \u001b[1;33m=\u001b[0m \u001b[0mguitarpro\u001b[0m\u001b[1;33m.\u001b[0m\u001b[0mparse\u001b[0m\u001b[1;33m(\u001b[0m\u001b[0mtest_file\u001b[0m\u001b[1;33m)\u001b[0m\u001b[1;33m\u001b[0m\u001b[0m\n\u001b[0m\u001b[0;32m      5\u001b[0m     \u001b[0mempty_tracks\u001b[0m \u001b[1;33m=\u001b[0m \u001b[1;36m0\u001b[0m\u001b[1;33m\u001b[0m\u001b[0m\n\u001b[0;32m      6\u001b[0m     \u001b[0mtotal_tracks\u001b[0m \u001b[1;33m=\u001b[0m \u001b[0mlen\u001b[0m\u001b[1;33m(\u001b[0m\u001b[0msong\u001b[0m\u001b[1;33m.\u001b[0m\u001b[0mtracks\u001b[0m\u001b[1;33m)\u001b[0m\u001b[1;33m\u001b[0m\u001b[0m\n",
      "\u001b[1;32md:\\Documents\\Queen Mary\\dev\\msc_thesis\\env\\lib\\site-packages\\guitarpro\\io.py\u001b[0m in \u001b[0;36mparse\u001b[1;34m(stream, encoding)\u001b[0m\n\u001b[0;32m     59\u001b[0m     \"\"\"\n\u001b[0;32m     60\u001b[0m     \u001b[0mgpfile\u001b[0m \u001b[1;33m=\u001b[0m \u001b[0m_open\u001b[0m\u001b[1;33m(\u001b[0m\u001b[1;32mNone\u001b[0m\u001b[1;33m,\u001b[0m \u001b[0mstream\u001b[0m\u001b[1;33m,\u001b[0m \u001b[1;34m'rb'\u001b[0m\u001b[1;33m,\u001b[0m \u001b[0mencoding\u001b[0m\u001b[1;33m=\u001b[0m\u001b[0mencoding\u001b[0m\u001b[1;33m)\u001b[0m\u001b[1;33m\u001b[0m\u001b[0m\n\u001b[1;32m---> 61\u001b[1;33m     \u001b[0msong\u001b[0m \u001b[1;33m=\u001b[0m \u001b[0mgpfile\u001b[0m\u001b[1;33m.\u001b[0m\u001b[0mreadSong\u001b[0m\u001b[1;33m(\u001b[0m\u001b[1;33m)\u001b[0m\u001b[1;33m\u001b[0m\u001b[0m\n\u001b[0m\u001b[0;32m     62\u001b[0m     \u001b[0mgpfile\u001b[0m\u001b[1;33m.\u001b[0m\u001b[0mclose\u001b[0m\u001b[1;33m(\u001b[0m\u001b[1;33m)\u001b[0m\u001b[1;33m\u001b[0m\u001b[0m\n\u001b[0;32m     63\u001b[0m     \u001b[1;32mreturn\u001b[0m \u001b[0msong\u001b[0m\u001b[1;33m\u001b[0m\u001b[0m\n",
      "\u001b[1;32md:\\Documents\\Queen Mary\\dev\\msc_thesis\\env\\lib\\site-packages\\guitarpro\\gp5.py\u001b[0m in \u001b[0;36mreadSong\u001b[1;34m(self)\u001b[0m\n\u001b[0;32m     82\u001b[0m         \u001b[0mself\u001b[0m\u001b[1;33m.\u001b[0m\u001b[0mreadMeasureHeaders\u001b[0m\u001b[1;33m(\u001b[0m\u001b[0msong\u001b[0m\u001b[1;33m,\u001b[0m \u001b[0mmeasureCount\u001b[0m\u001b[1;33m,\u001b[0m \u001b[0mdirections\u001b[0m\u001b[1;33m)\u001b[0m\u001b[1;33m\u001b[0m\u001b[0m\n\u001b[0;32m     83\u001b[0m         \u001b[0mself\u001b[0m\u001b[1;33m.\u001b[0m\u001b[0mreadTracks\u001b[0m\u001b[1;33m(\u001b[0m\u001b[0msong\u001b[0m\u001b[1;33m,\u001b[0m \u001b[0mtrackCount\u001b[0m\u001b[1;33m,\u001b[0m \u001b[0mchannels\u001b[0m\u001b[1;33m)\u001b[0m\u001b[1;33m\u001b[0m\u001b[0m\n\u001b[1;32m---> 84\u001b[1;33m         \u001b[0mself\u001b[0m\u001b[1;33m.\u001b[0m\u001b[0mreadMeasures\u001b[0m\u001b[1;33m(\u001b[0m\u001b[0msong\u001b[0m\u001b[1;33m)\u001b[0m\u001b[1;33m\u001b[0m\u001b[0m\n\u001b[0m\u001b[0;32m     85\u001b[0m         \u001b[1;32mreturn\u001b[0m \u001b[0msong\u001b[0m\u001b[1;33m\u001b[0m\u001b[0m\n\u001b[0;32m     86\u001b[0m \u001b[1;33m\u001b[0m\u001b[0m\n",
      "\u001b[1;32md:\\Documents\\Queen Mary\\dev\\msc_thesis\\env\\lib\\site-packages\\guitarpro\\gp3.py\u001b[0m in \u001b[0;36mreadMeasures\u001b[1;34m(self, song)\u001b[0m\n\u001b[0;32m    399\u001b[0m                 \u001b[0mtempo\u001b[0m \u001b[1;33m=\u001b[0m \u001b[0mheader\u001b[0m\u001b[1;33m.\u001b[0m\u001b[0mtempo\u001b[0m\u001b[1;33m\u001b[0m\u001b[0m\n\u001b[0;32m    400\u001b[0m                 \u001b[0mtrack\u001b[0m\u001b[1;33m.\u001b[0m\u001b[0mmeasures\u001b[0m\u001b[1;33m.\u001b[0m\u001b[0mappend\u001b[0m\u001b[1;33m(\u001b[0m\u001b[0mmeasure\u001b[0m\u001b[1;33m)\u001b[0m\u001b[1;33m\u001b[0m\u001b[0m\n\u001b[1;32m--> 401\u001b[1;33m                 \u001b[0mself\u001b[0m\u001b[1;33m.\u001b[0m\u001b[0mreadMeasure\u001b[0m\u001b[1;33m(\u001b[0m\u001b[0mmeasure\u001b[0m\u001b[1;33m)\u001b[0m\u001b[1;33m\u001b[0m\u001b[0m\n\u001b[0m\u001b[0;32m    402\u001b[0m             \u001b[0mheader\u001b[0m\u001b[1;33m.\u001b[0m\u001b[0mtempo\u001b[0m \u001b[1;33m=\u001b[0m \u001b[0mtempo\u001b[0m\u001b[1;33m\u001b[0m\u001b[0m\n\u001b[0;32m    403\u001b[0m             \u001b[0mstart\u001b[0m \u001b[1;33m+=\u001b[0m \u001b[0mheader\u001b[0m\u001b[1;33m.\u001b[0m\u001b[0mlength\u001b[0m\u001b[1;33m\u001b[0m\u001b[0m\n",
      "\u001b[1;32md:\\Documents\\Queen Mary\\dev\\msc_thesis\\env\\lib\\site-packages\\guitarpro\\gp5.py\u001b[0m in \u001b[0;36mreadMeasure\u001b[1;34m(self, measure)\u001b[0m\n\u001b[0;32m    529\u001b[0m         \u001b[0mstart\u001b[0m \u001b[1;33m=\u001b[0m \u001b[0mmeasure\u001b[0m\u001b[1;33m.\u001b[0m\u001b[0mstart\u001b[0m\u001b[1;33m\u001b[0m\u001b[0m\n\u001b[0;32m    530\u001b[0m         \u001b[1;32mfor\u001b[0m \u001b[0mvoice\u001b[0m \u001b[1;32min\u001b[0m \u001b[0mmeasure\u001b[0m\u001b[1;33m.\u001b[0m\u001b[0mvoices\u001b[0m\u001b[1;33m[\u001b[0m\u001b[1;33m:\u001b[0m\u001b[0mgp\u001b[0m\u001b[1;33m.\u001b[0m\u001b[0mMeasure\u001b[0m\u001b[1;33m.\u001b[0m\u001b[0mmaxVoices\u001b[0m\u001b[1;33m]\u001b[0m\u001b[1;33m:\u001b[0m\u001b[1;33m\u001b[0m\u001b[0m\n\u001b[1;32m--> 531\u001b[1;33m             \u001b[0mself\u001b[0m\u001b[1;33m.\u001b[0m\u001b[0mreadVoice\u001b[0m\u001b[1;33m(\u001b[0m\u001b[0mstart\u001b[0m\u001b[1;33m,\u001b[0m \u001b[0mvoice\u001b[0m\u001b[1;33m)\u001b[0m\u001b[1;33m\u001b[0m\u001b[0m\n\u001b[0m\u001b[0;32m    532\u001b[0m         \u001b[0mmeasure\u001b[0m\u001b[1;33m.\u001b[0m\u001b[0mlineBreak\u001b[0m \u001b[1;33m=\u001b[0m \u001b[0mgp\u001b[0m\u001b[1;33m.\u001b[0m\u001b[0mLineBreak\u001b[0m\u001b[1;33m(\u001b[0m\u001b[0mself\u001b[0m\u001b[1;33m.\u001b[0m\u001b[0mreadByte\u001b[0m\u001b[1;33m(\u001b[0m\u001b[0mdefault\u001b[0m\u001b[1;33m=\u001b[0m\u001b[1;36m0\u001b[0m\u001b[1;33m)\u001b[0m\u001b[1;33m)\u001b[0m\u001b[1;33m\u001b[0m\u001b[0m\n\u001b[0;32m    533\u001b[0m \u001b[1;33m\u001b[0m\u001b[0m\n",
      "\u001b[1;32md:\\Documents\\Queen Mary\\dev\\msc_thesis\\env\\lib\\site-packages\\guitarpro\\gp3.py\u001b[0m in \u001b[0;36mreadVoice\u001b[1;34m(self, start, voice)\u001b[0m\n\u001b[0;32m    417\u001b[0m         \u001b[0mbeats\u001b[0m \u001b[1;33m=\u001b[0m \u001b[0mself\u001b[0m\u001b[1;33m.\u001b[0m\u001b[0mreadInt\u001b[0m\u001b[1;33m(\u001b[0m\u001b[1;33m)\u001b[0m\u001b[1;33m\u001b[0m\u001b[0m\n\u001b[0;32m    418\u001b[0m         \u001b[1;32mfor\u001b[0m \u001b[0mbeat\u001b[0m \u001b[1;32min\u001b[0m \u001b[0mrange\u001b[0m\u001b[1;33m(\u001b[0m\u001b[0mbeats\u001b[0m\u001b[1;33m)\u001b[0m\u001b[1;33m:\u001b[0m\u001b[1;33m\u001b[0m\u001b[0m\n\u001b[1;32m--> 419\u001b[1;33m             \u001b[0mstart\u001b[0m \u001b[1;33m+=\u001b[0m \u001b[0mself\u001b[0m\u001b[1;33m.\u001b[0m\u001b[0mreadBeat\u001b[0m\u001b[1;33m(\u001b[0m\u001b[0mstart\u001b[0m\u001b[1;33m,\u001b[0m \u001b[0mvoice\u001b[0m\u001b[1;33m)\u001b[0m\u001b[1;33m\u001b[0m\u001b[0m\n\u001b[0m\u001b[0;32m    420\u001b[0m \u001b[1;33m\u001b[0m\u001b[0m\n\u001b[0;32m    421\u001b[0m     \u001b[1;32mdef\u001b[0m \u001b[0mreadBeat\u001b[0m\u001b[1;33m(\u001b[0m\u001b[0mself\u001b[0m\u001b[1;33m,\u001b[0m \u001b[0mstart\u001b[0m\u001b[1;33m,\u001b[0m \u001b[0mvoice\u001b[0m\u001b[1;33m)\u001b[0m\u001b[1;33m:\u001b[0m\u001b[1;33m\u001b[0m\u001b[0m\n",
      "\u001b[1;32md:\\Documents\\Queen Mary\\dev\\msc_thesis\\env\\lib\\site-packages\\guitarpro\\gp5.py\u001b[0m in \u001b[0;36mreadBeat\u001b[1;34m(self, start, voice)\u001b[0m\n\u001b[0;32m    557\u001b[0m \u001b[1;33m\u001b[0m\u001b[0m\n\u001b[0;32m    558\u001b[0m         \"\"\"\n\u001b[1;32m--> 559\u001b[1;33m         \u001b[0mduration\u001b[0m \u001b[1;33m=\u001b[0m \u001b[0msuper\u001b[0m\u001b[1;33m(\u001b[0m\u001b[0mGP5File\u001b[0m\u001b[1;33m,\u001b[0m \u001b[0mself\u001b[0m\u001b[1;33m)\u001b[0m\u001b[1;33m.\u001b[0m\u001b[0mreadBeat\u001b[0m\u001b[1;33m(\u001b[0m\u001b[0mstart\u001b[0m\u001b[1;33m,\u001b[0m \u001b[0mvoice\u001b[0m\u001b[1;33m)\u001b[0m\u001b[1;33m\u001b[0m\u001b[0m\n\u001b[0m\u001b[0;32m    560\u001b[0m         \u001b[0mbeat\u001b[0m \u001b[1;33m=\u001b[0m \u001b[0mself\u001b[0m\u001b[1;33m.\u001b[0m\u001b[0mgetBeat\u001b[0m\u001b[1;33m(\u001b[0m\u001b[0mvoice\u001b[0m\u001b[1;33m,\u001b[0m \u001b[0mstart\u001b[0m\u001b[1;33m)\u001b[0m\u001b[1;33m\u001b[0m\u001b[0m\n\u001b[0;32m    561\u001b[0m         \u001b[0mflags2\u001b[0m \u001b[1;33m=\u001b[0m \u001b[0mself\u001b[0m\u001b[1;33m.\u001b[0m\u001b[0mreadShort\u001b[0m\u001b[1;33m(\u001b[0m\u001b[1;33m)\u001b[0m\u001b[1;33m\u001b[0m\u001b[0m\n",
      "\u001b[1;32md:\\Documents\\Queen Mary\\dev\\msc_thesis\\env\\lib\\site-packages\\guitarpro\\gp3.py\u001b[0m in \u001b[0;36mreadBeat\u001b[1;34m(self, start, voice)\u001b[0m\n\u001b[0;32m    470\u001b[0m             \u001b[0mmixTableChange\u001b[0m \u001b[1;33m=\u001b[0m \u001b[0mself\u001b[0m\u001b[1;33m.\u001b[0m\u001b[0mreadMixTableChange\u001b[0m\u001b[1;33m(\u001b[0m\u001b[0mvoice\u001b[0m\u001b[1;33m.\u001b[0m\u001b[0mmeasure\u001b[0m\u001b[1;33m)\u001b[0m\u001b[1;33m\u001b[0m\u001b[0m\n\u001b[0;32m    471\u001b[0m             \u001b[0mbeat\u001b[0m\u001b[1;33m.\u001b[0m\u001b[0meffect\u001b[0m\u001b[1;33m.\u001b[0m\u001b[0mmixTableChange\u001b[0m \u001b[1;33m=\u001b[0m \u001b[0mmixTableChange\u001b[0m\u001b[1;33m\u001b[0m\u001b[0m\n\u001b[1;32m--> 472\u001b[1;33m         \u001b[0mself\u001b[0m\u001b[1;33m.\u001b[0m\u001b[0mreadNotes\u001b[0m\u001b[1;33m(\u001b[0m\u001b[0mvoice\u001b[0m\u001b[1;33m.\u001b[0m\u001b[0mmeasure\u001b[0m\u001b[1;33m.\u001b[0m\u001b[0mtrack\u001b[0m\u001b[1;33m,\u001b[0m \u001b[0mbeat\u001b[0m\u001b[1;33m,\u001b[0m \u001b[0mduration\u001b[0m\u001b[1;33m,\u001b[0m \u001b[0meffect\u001b[0m\u001b[1;33m)\u001b[0m\u001b[1;33m\u001b[0m\u001b[0m\n\u001b[0m\u001b[0;32m    473\u001b[0m         \u001b[1;32mreturn\u001b[0m \u001b[0mduration\u001b[0m\u001b[1;33m.\u001b[0m\u001b[0mtime\u001b[0m \u001b[1;32mif\u001b[0m \u001b[1;32mnot\u001b[0m \u001b[0mbeat\u001b[0m\u001b[1;33m.\u001b[0m\u001b[0mstatus\u001b[0m \u001b[1;33m==\u001b[0m \u001b[0mgp\u001b[0m\u001b[1;33m.\u001b[0m\u001b[0mBeatStatus\u001b[0m\u001b[1;33m.\u001b[0m\u001b[0mempty\u001b[0m \u001b[1;32melse\u001b[0m \u001b[1;36m0\u001b[0m\u001b[1;33m\u001b[0m\u001b[0m\n\u001b[0;32m    474\u001b[0m \u001b[1;33m\u001b[0m\u001b[0m\n",
      "\u001b[1;32md:\\Documents\\Queen Mary\\dev\\msc_thesis\\env\\lib\\site-packages\\guitarpro\\gp3.py\u001b[0m in \u001b[0;36mreadNotes\u001b[1;34m(self, track, beat, duration, effect)\u001b[0m\n\u001b[0;32m    888\u001b[0m                 \u001b[0mnote\u001b[0m \u001b[1;33m=\u001b[0m \u001b[0mgp\u001b[0m\u001b[1;33m.\u001b[0m\u001b[0mNote\u001b[0m\u001b[1;33m(\u001b[0m\u001b[0mbeat\u001b[0m\u001b[1;33m)\u001b[0m\u001b[1;33m\u001b[0m\u001b[0m\n\u001b[0;32m    889\u001b[0m                 \u001b[0mbeat\u001b[0m\u001b[1;33m.\u001b[0m\u001b[0mnotes\u001b[0m\u001b[1;33m.\u001b[0m\u001b[0mappend\u001b[0m\u001b[1;33m(\u001b[0m\u001b[0mnote\u001b[0m\u001b[1;33m)\u001b[0m\u001b[1;33m\u001b[0m\u001b[0m\n\u001b[1;32m--> 890\u001b[1;33m                 \u001b[0mself\u001b[0m\u001b[1;33m.\u001b[0m\u001b[0mreadNote\u001b[0m\u001b[1;33m(\u001b[0m\u001b[0mnote\u001b[0m\u001b[1;33m,\u001b[0m \u001b[0mstring\u001b[0m\u001b[1;33m,\u001b[0m \u001b[0mtrack\u001b[0m\u001b[1;33m)\u001b[0m\u001b[1;33m\u001b[0m\u001b[0m\n\u001b[0m\u001b[0;32m    891\u001b[0m             \u001b[0mbeat\u001b[0m\u001b[1;33m.\u001b[0m\u001b[0mduration\u001b[0m \u001b[1;33m=\u001b[0m \u001b[0mduration\u001b[0m\u001b[1;33m\u001b[0m\u001b[0m\n\u001b[0;32m    892\u001b[0m \u001b[1;33m\u001b[0m\u001b[0m\n",
      "\u001b[1;32md:\\Documents\\Queen Mary\\dev\\msc_thesis\\env\\lib\\site-packages\\guitarpro\\gp5.py\u001b[0m in \u001b[0;36mreadNote\u001b[1;34m(self, note, guitarString, track)\u001b[0m\n\u001b[0;32m    769\u001b[0m         \u001b[0mnote\u001b[0m\u001b[1;33m.\u001b[0m\u001b[0meffect\u001b[0m\u001b[1;33m.\u001b[0m\u001b[0maccentuatedNote\u001b[0m \u001b[1;33m=\u001b[0m \u001b[0mbool\u001b[0m\u001b[1;33m(\u001b[0m\u001b[0mflags\u001b[0m \u001b[1;33m&\u001b[0m \u001b[1;36m0x40\u001b[0m\u001b[1;33m)\u001b[0m\u001b[1;33m\u001b[0m\u001b[0m\n\u001b[0;32m    770\u001b[0m         \u001b[1;32mif\u001b[0m \u001b[0mflags\u001b[0m \u001b[1;33m&\u001b[0m \u001b[1;36m0x20\u001b[0m\u001b[1;33m:\u001b[0m\u001b[1;33m\u001b[0m\u001b[0m\n\u001b[1;32m--> 771\u001b[1;33m             \u001b[0mnote\u001b[0m\u001b[1;33m.\u001b[0m\u001b[0mtype\u001b[0m \u001b[1;33m=\u001b[0m \u001b[0mgp\u001b[0m\u001b[1;33m.\u001b[0m\u001b[0mNoteType\u001b[0m\u001b[1;33m(\u001b[0m\u001b[0mself\u001b[0m\u001b[1;33m.\u001b[0m\u001b[0mreadByte\u001b[0m\u001b[1;33m(\u001b[0m\u001b[1;33m)\u001b[0m\u001b[1;33m)\u001b[0m\u001b[1;33m\u001b[0m\u001b[0m\n\u001b[0m\u001b[0;32m    772\u001b[0m         \u001b[1;32mif\u001b[0m \u001b[0mflags\u001b[0m \u001b[1;33m&\u001b[0m \u001b[1;36m0x10\u001b[0m\u001b[1;33m:\u001b[0m\u001b[1;33m\u001b[0m\u001b[0m\n\u001b[0;32m    773\u001b[0m             \u001b[0mdyn\u001b[0m \u001b[1;33m=\u001b[0m \u001b[0mself\u001b[0m\u001b[1;33m.\u001b[0m\u001b[0mreadSignedByte\u001b[0m\u001b[1;33m(\u001b[0m\u001b[1;33m)\u001b[0m\u001b[1;33m\u001b[0m\u001b[0m\n",
      "\u001b[1;32md:\\Documents\\Queen Mary\\dev\\msc_thesis\\env\\lib\\site-packages\\guitarpro\\iobase.py\u001b[0m in \u001b[0;36mreadByte\u001b[1;34m(self, count, default)\u001b[0m\n\u001b[0;32m     45\u001b[0m         \u001b[1;34m\"\"\"Read 1 byte *count* times.\"\"\"\u001b[0m\u001b[1;33m\u001b[0m\u001b[0m\n\u001b[0;32m     46\u001b[0m         \u001b[0margs\u001b[0m \u001b[1;33m=\u001b[0m \u001b[1;33m(\u001b[0m\u001b[1;34m'B'\u001b[0m\u001b[1;33m,\u001b[0m \u001b[1;36m1\u001b[0m\u001b[1;33m)\u001b[0m\u001b[1;33m\u001b[0m\u001b[0m\n\u001b[1;32m---> 47\u001b[1;33m         return (self.read(*args, default=default) if count == 1 else\n\u001b[0m\u001b[0;32m     48\u001b[0m                 [self.read(*args, default=default) for i in range(count)])\n\u001b[0;32m     49\u001b[0m \u001b[1;33m\u001b[0m\u001b[0m\n",
      "\u001b[1;32md:\\Documents\\Queen Mary\\dev\\msc_thesis\\env\\lib\\site-packages\\guitarpro\\iobase.py\u001b[0m in \u001b[0;36mread\u001b[1;34m(self, fmt, count, default)\u001b[0m\n\u001b[0;32m     33\u001b[0m     \u001b[1;32mdef\u001b[0m \u001b[0mread\u001b[0m\u001b[1;33m(\u001b[0m\u001b[0mself\u001b[0m\u001b[1;33m,\u001b[0m \u001b[0mfmt\u001b[0m\u001b[1;33m,\u001b[0m \u001b[0mcount\u001b[0m\u001b[1;33m,\u001b[0m \u001b[0mdefault\u001b[0m\u001b[1;33m=\u001b[0m\u001b[1;32mNone\u001b[0m\u001b[1;33m)\u001b[0m\u001b[1;33m:\u001b[0m\u001b[1;33m\u001b[0m\u001b[0m\n\u001b[0;32m     34\u001b[0m         \u001b[1;32mtry\u001b[0m\u001b[1;33m:\u001b[0m\u001b[1;33m\u001b[0m\u001b[0m\n\u001b[1;32m---> 35\u001b[1;33m             \u001b[0mdata\u001b[0m \u001b[1;33m=\u001b[0m \u001b[0mself\u001b[0m\u001b[1;33m.\u001b[0m\u001b[0mdata\u001b[0m\u001b[1;33m.\u001b[0m\u001b[0mread\u001b[0m\u001b[1;33m(\u001b[0m\u001b[0mcount\u001b[0m\u001b[1;33m)\u001b[0m\u001b[1;33m\u001b[0m\u001b[0m\n\u001b[0m\u001b[0;32m     36\u001b[0m             \u001b[0mresult\u001b[0m \u001b[1;33m=\u001b[0m \u001b[0mstruct\u001b[0m\u001b[1;33m.\u001b[0m\u001b[0munpack\u001b[0m\u001b[1;33m(\u001b[0m\u001b[0mfmt\u001b[0m\u001b[1;33m,\u001b[0m \u001b[0mdata\u001b[0m\u001b[1;33m)\u001b[0m\u001b[1;33m\u001b[0m\u001b[0m\n\u001b[0;32m     37\u001b[0m             \u001b[1;32mreturn\u001b[0m \u001b[0mresult\u001b[0m\u001b[1;33m[\u001b[0m\u001b[1;36m0\u001b[0m\u001b[1;33m]\u001b[0m\u001b[1;33m\u001b[0m\u001b[0m\n",
      "\u001b[1;31mKeyboardInterrupt\u001b[0m: "
     ]
    }
   ],
   "source": [
    "# report the number of empty bars across all tracks\n",
    "import json\n",
    "\n",
    "root_path = \"D:\\Documents\\DATA\\DadaGP-4-8-lps-3-dens-per-inst-hard-reps\"\n",
    "allfiles_path = os.path.join(root_path,\"file_list_loops.json\" )\n",
    "with open(allfiles_path, \"r\") as f:\n",
    "    allfiles =  json.load(f)\n",
    "\n",
    "n_files = len(allfiles)\n",
    "total_tracks = 0\n",
    "empty_tracks = 0\n",
    "for fidx in range(n_files):   \n",
    "    fn = allfiles[fidx].replace(\".txt\", \".gp5\")\n",
    "    file = os.path.join(root_path, fn)\n",
    "    empty, total = calc_empty_tracks(file)\n",
    "    total_tracks = total_tracks + total\n",
    "    empty_tracks = empty_tracks + empty\n",
    "\n",
    "print(\"{} empty tracks out of {} total tracks\".format(empty_tracks, total_tracks))"
   ]
  },
  {
   "cell_type": "code",
   "execution_count": 9,
   "id": "9ec6329e",
   "metadata": {},
   "outputs": [
    {
     "data": {
      "text/plain": [
       "0.19808944952830457"
      ]
     },
     "execution_count": 9,
     "metadata": {},
     "output_type": "execute_result"
    }
   ],
   "source": [
    "35003.0 / 176703.0 #percentage of empty tracks in original loop dataset"
   ]
  },
  {
   "cell_type": "code",
   "execution_count": 12,
   "id": "3ab61560",
   "metadata": {},
   "outputs": [
    {
     "name": "stdout",
     "output_type": "stream",
     "text": [
      "skipping  D:\\Documents\\DATA\\DadaGP-v1.1\\A/Angra/Angra - Millennium Sun (introdua[?]o, piano_violino).gp3.tokens.txt\n",
      "skipping  D:\\Documents\\DATA\\DadaGP-v1.1\\B/Blind Pigs/Blind Pigs - Ultima Emoa[?]o.gp3.tokens.txt\n",
      "skipping  D:\\Documents\\DATA\\DadaGP-v1.1\\C/Capital Inicial, Regis Luis/Capital Inicial, Regis Luis - [?] Sua Maneira (3).gp3.tokens.txt\n",
      "skipping  D:\\Documents\\DATA\\DadaGP-v1.1\\C/Charlie Brown Jr/Charlie Brown Jr - N[?]o Deixe o Mar Te Engolir.gp3.tokens.txt\n",
      "skipping  D:\\Documents\\DATA\\DadaGP-v1.1\\C/Charlie Brown Jr/Charlie Brown Jr - Rub[?]o (2).gp3.tokens.txt\n",
      "skipping  D:\\Documents\\DATA\\DadaGP-v1.1\\C/Charlie Brown Jr/Charlie Brown Jr - Rub[?]o.gp3.tokens.txt\n",
      "skipping  D:\\Documents\\DATA\\DadaGP-v1.1\\C/Charlie Brown Jr/Charlie Brown Jr - Rub[?]o.gp4.tokens.txt\n",
      "skipping  D:\\Documents\\DATA\\DadaGP-v1.1\\C/Charlie Brown Jr/Charlie Brown Jr - Uni[?]o.gp3.tokens.txt\n",
      "skipping  D:\\Documents\\DATA\\DadaGP-v1.1\\D/Die Toten Hosen/Die Toten Hosen - Schinen Gru*, Auf Wiedersehn.gp3.tokens.txt\n",
      "skipping  D:\\Documents\\DATA\\DadaGP-v1.1\\D/Digitacao/Digitaa[?]o - Scales Mode.gp4.tokens.txt\n",
      "skipping  D:\\Documents\\DATA\\DadaGP-v1.1\\G/Guitar Player Licoes/Guitar Player Lia%0es - Improvisaa[?]o no Country.gp3.tokens.txt\n",
      "skipping  D:\\Documents\\DATA\\DadaGP-v1.1\\I/Insulto/Insulto - Minha Opni[?]o.gp4.tokens.txt\n",
      "skipping  D:\\Documents\\DATA\\DadaGP-v1.1\\J/Jobim, Antonio Carlos/Jobim, Antonio Carlos - Eu n[?]o existo sem voca.gp3.tokens.txt\n",
      "skipping  D:\\Documents\\DATA\\DadaGP-v1.1\\L/Legiao Urbana/Legiao Urbana - -ndios (Introdua[?]o).gp4.tokens.txt\n",
      "skipping  D:\\Documents\\DATA\\DadaGP-v1.1\\L/Legiao Urbana/Legiao Urbana - Legi[?]o Urbana - Um Dia Perfeito.gp3.tokens.txt\n",
      "skipping  D:\\Documents\\DATA\\DadaGP-v1.1\\N/Nando Simas/Nando Simas - Alua_org[?]o (Organ Lesson).gp3.tokens.txt\n",
      "skipping  D:\\Documents\\DATA\\DadaGP-v1.1\\R/Raimundos/Raimundos - O P[?]o Da Minha Prima.gp4.tokens.txt\n",
      "skipping  D:\\Documents\\DATA\\DadaGP-v1.1\\R/Raimundos/Raimundos - Putero em Jo[?]o Pessoa.gp4.tokens.txt\n",
      "skipping  D:\\Documents\\DATA\\DadaGP-v1.1\\U/Unknown/ - Isolated.gp4.tokens.txt\n",
      "skipping  D:\\Documents\\DATA\\DadaGP-v1.1\\U/Unknown/ - Tudo Que Vai.gp3.tokens.txt\n",
      "skipping  D:\\Documents\\DATA\\DadaGP-v1.1\\V/Vermelho, Barao/Vermelho, Bar[?]o - Bete Balanao (ao vivo).gp3.tokens.txt\n",
      "skipping  D:\\Documents\\DATA\\DadaGP-v1.1\\V/Vermelho, Barao/Vermelho, Bar[?]o - O Poeta Esta Vivo.gp3.tokens.txt\n",
      "skipping  D:\\Documents\\DATA\\DadaGP-v1.1\\Z/Zemfira/Zemfira - ea *EaNOdegao.gp4.tokens.txt\n",
      "51998 maximum token length from N/NOFX/NOFX - The Decline.gp3.tokens.txt\n",
      "4456.623314617471 average tokens per song\n"
     ]
    }
   ],
   "source": [
    "#get max number of tokens in dataset and average\n",
    "\n",
    "root_path = \"D:\\Documents\\DATA\\DadaGP-v1.1\"\n",
    "allfiles_path = os.path.join(root_path,\"_DadaGP_all_filenames.json\" )\n",
    "with open(allfiles_path, \"r\") as f:\n",
    "    allfiles =  json.load(f)\n",
    "\n",
    "n_files = len(allfiles)\n",
    "max_lines = 0\n",
    "total_lines = 0\n",
    "max_song = None\n",
    "for fidx in range(n_files):   \n",
    "    fn = allfiles[fidx]\n",
    "    file = os.path.join(root_path, fn)\n",
    "    try:\n",
    "        with open(file) as f:\n",
    "            num_lines = len(f.readlines())\n",
    "            total_lines += num_lines\n",
    "            if num_lines > max_lines:\n",
    "                max_lines = num_lines\n",
    "                max_song = fn\n",
    "    except:\n",
    "        print(\"skipping \", file)\n",
    "        continue\n",
    "print(\"{} maximum token length from {}\".format(max_lines, max_song))\n",
    "print(\"{} average tokens per song\".format(total_lines * 1.0 /n_files))"
   ]
  },
  {
   "cell_type": "code",
   "execution_count": 3,
   "id": "60ca21c0",
   "metadata": {},
   "outputs": [
    {
     "name": "stdout",
     "output_type": "stream",
     "text": [
      "3.1116315205327414 average tracks per file\n"
     ]
    }
   ],
   "source": [
    "#average tracks per loop\n",
    "\n",
    "root_path = \"D:\\Documents\\DATA\\DadaGP-Loops\"\n",
    "allfiles_path = os.path.join(root_path,\"file_list.json\" )\n",
    "with open(allfiles_path, \"r\") as f:\n",
    "    allfiles =  json.load(f)\n",
    "\n",
    "n_files = len(allfiles)\n",
    "total_tracks = 0\n",
    "for fidx in range(n_files):   \n",
    "    fn = allfiles[fidx].replace(\".txt\", \".gp5\")\n",
    "    file = os.path.join(root_path, fn)\n",
    "    song = guitarpro.parse(file)\n",
    "    total_tracks = total_tracks + len(song.tracks)\n",
    "print(\"{} average tracks per file\".format(total_tracks * 1.0 / n_files))"
   ]
  },
  {
   "cell_type": "code",
   "execution_count": 3,
   "id": "c24a9599",
   "metadata": {},
   "outputs": [
    {
     "name": "stdout",
     "output_type": "stream",
     "text": [
      "repeat open at 0\n",
      "repeat close 2x at 1\n",
      "repeat open at 4\n",
      "repeat close 2x at 5\n"
     ]
    }
   ],
   "source": [
    "#print out all the repeats in a test song\n",
    "test_file = \"D:\\\\Documents\\\\DATA\\\\DadaGP-v1.1\\\\1\\\\1349\\\\1349 - Deathmarch.gp4\"\n",
    "song = guitarpro.parse(test_file)\n",
    "for i, measure in enumerate(song.tracks[0].measures):\n",
    "    if measure.header.isRepeatOpen:\n",
    "        print(\"repeat open at {}\".format(i))\n",
    "    elif measure.header.repeatClose > -1:\n",
    "        print(\"repeat close {}x at {}\".format(measure.header.repeatClose, i))\n",
    "#isRepeatOpen will be true at the beginning of the repeat. repeatClose is an int that appears in the measure of the closing repeat.number repeats not including OG\n"
   ]
  },
  {
   "cell_type": "code",
   "execution_count": 6,
   "id": "9ad5e759",
   "metadata": {},
   "outputs": [
    {
     "name": "stdout",
     "output_type": "stream",
     "text": [
      "repeat open at 0\n",
      "repeat alt 1 at 6\n",
      "repeat close 1x at 7\n",
      "repeat alt 2 at 8\n",
      "repeat open at 10\n",
      "repeat close 3x at 13\n",
      "repeat open at 14\n",
      "repeat close 3x at 17\n",
      "repeat open at 18\n",
      "repeat close 1x at 25\n",
      "repeat open at 26\n",
      "repeat close 3x at 29\n",
      "repeat open at 50\n",
      "repeat alt 3 at 52\n",
      "repeat close 1x at 53\n",
      "repeat alt 4 at 54\n",
      "repeat open at 56\n",
      "repeat close 3x at 59\n",
      "repeat open at 60\n",
      "repeat close 3x at 63\n",
      "repeat open at 64\n",
      "repeat close 1x at 71\n",
      "repeat open at 72\n",
      "repeat close 3x at 75\n"
     ]
    }
   ],
   "source": [
    "#analyze test file with alternate endings\n",
    "\n",
    "test_file = \"D:\\\\Documents\\\\DATA\\\\DadaGP-v1.1\\\\3\\\\3 Inches Of Blood\\\\3 Inches Of Blood - Balls Of Ice.gp4\"\n",
    "song = guitarpro.parse(test_file)\n",
    "for i, measure in enumerate(song.tracks[0].measures):\n",
    "    if measure.header.isRepeatOpen:\n",
    "        print(\"repeat open at {}\".format(i))\n",
    "    elif measure.header.repeatClose > -1:\n",
    "        print(\"repeat close {}x at {}\".format(measure.header.repeatClose, i))\n",
    "    elif measure.header.repeatAlternative > 0:\n",
    "        print(\"repeat alt {} at {}\".format(measure.header.repeatAlternative, i))"
   ]
  },
  {
   "cell_type": "code",
   "execution_count": 9,
   "id": "24bb6da9",
   "metadata": {},
   "outputs": [],
   "source": [
    "#code for reformatting the data parallel model\n",
    "import torch\n",
    "from collections import OrderedDict\n",
    "\n",
    "# original saved file with DataParallel\n",
    "model = torch.load('../model-weights/pretrained_hard/ep_220.pth.tar')\n",
    "# create new OrderedDict that does not contain `module.`\n",
    "new_state_dict = OrderedDict()\n",
    "for k, v in model['state_dict'].items():\n",
    "    name = k[7:] # remove `module.`\n",
    "    new_state_dict[name] = v\n",
    "# load params\n",
    "model['state_dict'] = new_state_dict\n",
    "torch.save(model, '../model-weights/pretrained_hard/ep_220.pth.tar')"
   ]
  },
  {
   "cell_type": "code",
   "execution_count": null,
   "id": "2881aac6",
   "metadata": {},
   "outputs": [],
   "source": [
    "#Thoughts on extracting stuff for study\n",
    "#extract 25 \"real\" loops following genre distribution\n",
    "#each loop should be 4 bars long (should we restrict to 4/4 time signature?)\n",
    "#how to get the genre distribution? we have it as JSON files but #2 genre is \"unknown.\" Should we filter out and only use top few genres? and do this in training too?\n",
    "#for generation, was thinking for each real example we generate artifical one with the same tempo and starting beat (since a primer is needed)\n",
    "#should we include genre/artist tags in the artificial generation and does this matter? "
   ]
  },
  {
   "cell_type": "code",
   "execution_count": 8,
   "id": "397cca98",
   "metadata": {},
   "outputs": [],
   "source": [
    "#Fixing issue with all the rests\n",
    "#TODO: try prompting with an open repeat symbol, could make the training dataset have the repeat\n",
    "#TODO: extract repeats separately\n",
    "#TODO: combine all the loops for one song into one file? (trying now)\n",
    "\n",
    "#Training now\n",
    "#try training on different epoch starting points: 50 and 100 running\n",
    "#try reducing group size: reduced from 4 to 10, deleting 500 loops out of 20,000\n",
    "\n",
    "#DONE\n",
    "#average number of instruments per track? Could be predominantly only guitar or something. Nah average was 3.1\n",
    "#removing silence from dataset and 2xing length of each datapoint? Still rests after 5 epochs training from 200\n",
    "#started from 50th epoch, not very interesting outputs after 5 more. Reduced group size didn't seem to help\n"
   ]
  }
 ],
 "metadata": {
  "kernelspec": {
   "display_name": "Python 3.7.0 ('env')",
   "language": "python",
   "name": "python3"
  },
  "language_info": {
   "codemirror_mode": {
    "name": "ipython",
    "version": 3
   },
   "file_extension": ".py",
   "mimetype": "text/x-python",
   "name": "python",
   "nbconvert_exporter": "python",
   "pygments_lexer": "ipython3",
   "version": "3.7.0"
  },
  "vscode": {
   "interpreter": {
    "hash": "ad41e0d2c78ece94b277de777bb1902fc9e335e19d2884f562c7160c6a6d1eb4"
   }
  }
 },
 "nbformat": 4,
 "nbformat_minor": 5
}
