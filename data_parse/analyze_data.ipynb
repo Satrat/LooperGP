{
 "cells": [
  {
   "cell_type": "code",
   "execution_count": 1,
   "id": "00dc20a4-cb07-4ee0-9506-b6466efa2084",
   "metadata": {},
   "outputs": [],
   "source": [
    "import guitarpro\n",
    "import dadagp as dada\n",
    "import numpy as np\n",
    "import matplotlib.pyplot as plt\n",
    "import math\n",
    "import os\n",
    "import json"
   ]
  },
  {
   "cell_type": "code",
   "execution_count": 2,
   "id": "b5ff4276-b95d-44cb-bde4-40e7f9191d67",
   "metadata": {},
   "outputs": [],
   "source": [
    "DADAGP_PATH = \"acdc_ex.txt\"\n",
    "GP_PATH = \"../util/test_acdc.gp5\"\n",
    "PREFIX = \"./test_loops_out/acdc_test\""
   ]
  },
  {
   "cell_type": "code",
   "execution_count": 3,
   "id": "07f0ea1c",
   "metadata": {},
   "outputs": [
    {
     "name": "stdout",
     "output_type": "stream",
     "text": [
      "4 4\n",
      "4 4\n",
      "4 4\n",
      "4 4\n",
      "4 4\n",
      "4 4\n",
      "4 4\n",
      "4 4\n",
      "4 4\n",
      "4 4\n"
     ]
    }
   ],
   "source": [
    "#snippet for extracting time signatures\n",
    "\n",
    "song = guitarpro.parse(GP_PATH) #check if one time signature throughout, calculate min/max beat lengths based on it\n",
    "timeSignatures = {}\n",
    "for measure in song.tracks[0].measures[0:10]:\n",
    "    signature = (measure.timeSignature.numerator, measure.timeSignature.denominator.value)\n",
    "    if signature in timeSignatures.keys():\n",
    "        timeSignatures[signature] += 1\n",
    "    else:\n",
    "        timeSignatures[signature] = 1\n",
    "    print(measure.timeSignature.numerator, measure.timeSignature.denominator.value)\n",
    "    #print(measure.keySignature) #doesn't seem like this is accurate, just defaulting to CMaj. Could we auto extract key?\n",
    "#what to do if time signature changes? could just use most prominent? or split up song?"
   ]
  },
  {
   "cell_type": "code",
   "execution_count": null,
   "id": "22fd62bf",
   "metadata": {},
   "outputs": [],
   "source": [
    "#create the json file for names of all the loop files\n",
    "\n",
    "root_dir = \"D:\\Documents\\DATA\\DadaGP-Loops\"\n",
    "file_list = []\n",
    "for subdir, dirs, files in os.walk(root_dir):\n",
    "    short_subdir = subdir.replace(root_dir + \"\\\\\", \"\")\n",
    "    for file in files:\n",
    "        if file.endswith(\".txt\"):\n",
    "            full_path = os.path.join(short_subdir, file)\n",
    "            file_list.append(full_path)\n",
    "\n",
    "#save that file list to json\n",
    "root_dir = \"D:\\Documents\\DATA\\DadaGP-Loops\"\n",
    "path_json = os.path.join(root_dir, \"_DadaGP_LOOPS_all_filenames.json\")\n",
    "with open(path_json, 'w') as f:\n",
    "    json.dump(file_list, f)"
   ]
  },
  {
   "cell_type": "code",
   "execution_count": 7,
   "id": "023ff59d",
   "metadata": {},
   "outputs": [],
   "source": [
    "#helper function for finding number of empty bars in a track\n",
    "\n",
    "def calc_empty_tracks(test_file):\n",
    "    song = guitarpro.parse(test_file)\n",
    "    empty_tracks = 0\n",
    "    total_tracks = len(song.tracks)\n",
    "    for track in song.tracks:\n",
    "        empty_bars = 0\n",
    "        total_bars = len(track.measures)\n",
    "        for measure in track.measures:\n",
    "            non_rests = 0\n",
    "            for beat in measure.voices[0].beats:\n",
    "                for note in beat.notes:\n",
    "                    if note.type != guitarpro.NoteType.rest:\n",
    "                        non_rests = non_rests + 1\n",
    "            if non_rests == 0:\n",
    "                empty_bars = empty_bars + 1\n",
    "        if empty_bars == total_bars:\n",
    "            empty_tracks = empty_tracks + 1\n",
    "    return empty_tracks, total_tracks"
   ]
  },
  {
   "cell_type": "code",
   "execution_count": 17,
   "id": "88be6712",
   "metadata": {},
   "outputs": [
    {
     "name": "stdout",
     "output_type": "stream",
     "text": [
      "0 empty tracks out of 140179 total tracks\n"
     ]
    }
   ],
   "source": [
    "# report the number of empty bars across all tracks\n",
    "\n",
    "root_path = \"D:\\Documents\\DATA\\DadaGP-Loops\"\n",
    "allfiles_path = os.path.join(root_path,\"file_list.json\" )\n",
    "with open(allfiles_path, \"r\") as f:\n",
    "    allfiles =  json.load(f)\n",
    "\n",
    "n_files = len(allfiles)\n",
    "total_tracks = 0\n",
    "empty_tracks = 0\n",
    "for fidx in range(n_files):   \n",
    "    fn = allfiles[fidx].replace(\".txt\", \".gp5\")\n",
    "    file = os.path.join(root_path, fn)\n",
    "    empty, total = calc_empty_tracks(file)\n",
    "    total_tracks = total_tracks + total\n",
    "    empty_tracks = empty_tracks + empty\n",
    "\n",
    "print(\"{} empty tracks out of {} total tracks\".format(empty_tracks, total_tracks))"
   ]
  },
  {
   "cell_type": "code",
   "execution_count": 9,
   "id": "9ec6329e",
   "metadata": {},
   "outputs": [
    {
     "data": {
      "text/plain": [
       "0.19808944952830457"
      ]
     },
     "execution_count": 9,
     "metadata": {},
     "output_type": "execute_result"
    }
   ],
   "source": [
    "35003.0 / 176703.0 #percentage of empty tracks in original loop dataset"
   ]
  },
  {
   "cell_type": "code",
   "execution_count": 19,
   "id": "3ab61560",
   "metadata": {},
   "outputs": [
    {
     "name": "stdout",
     "output_type": "stream",
     "text": [
      "19629 maximum token length from R/Ride/Ride - Drive Blind.gp4.tokens_loop2.txt\n",
      "1839.2832630410655 average tokens per song\n"
     ]
    }
   ],
   "source": [
    "#get max number of tokens in dataset and average\n",
    "\n",
    "root_path = \"D:\\Documents\\DATA\\DadaGP-Loops\"\n",
    "allfiles_path = os.path.join(root_path,\"file_list.json\" )\n",
    "with open(allfiles_path, \"r\") as f:\n",
    "    allfiles =  json.load(f)\n",
    "\n",
    "n_files = len(allfiles)\n",
    "max_lines = 0\n",
    "total_lines = 0\n",
    "max_song = None\n",
    "for fidx in range(n_files):   \n",
    "    fn = allfiles[fidx]\n",
    "    file = os.path.join(root_path, fn)\n",
    "    with open(file) as f:\n",
    "        num_lines = len(f.readlines())\n",
    "        total_lines += num_lines\n",
    "        if num_lines > max_lines:\n",
    "            max_lines = num_lines\n",
    "            max_song = fn\n",
    "print(\"{} maximum token length from {}\".format(max_lines, max_song))\n",
    "print(\"{} average tokens per song\".format(total_lines * 1.0 /n_files))"
   ]
  },
  {
   "cell_type": "code",
   "execution_count": 3,
   "id": "60ca21c0",
   "metadata": {},
   "outputs": [
    {
     "name": "stdout",
     "output_type": "stream",
     "text": [
      "3.1116315205327414 average tracks per file\n"
     ]
    }
   ],
   "source": [
    "#average tracks per loop\n",
    "\n",
    "root_path = \"D:\\Documents\\DATA\\DadaGP-Loops\"\n",
    "allfiles_path = os.path.join(root_path,\"file_list.json\" )\n",
    "with open(allfiles_path, \"r\") as f:\n",
    "    allfiles =  json.load(f)\n",
    "\n",
    "n_files = len(allfiles)\n",
    "total_tracks = 0\n",
    "for fidx in range(n_files):   \n",
    "    fn = allfiles[fidx].replace(\".txt\", \".gp5\")\n",
    "    file = os.path.join(root_path, fn)\n",
    "    song = guitarpro.parse(file)\n",
    "    total_tracks = total_tracks + len(song.tracks)\n",
    "print(\"{} average tracks per file\".format(total_tracks * 1.0 / n_files))"
   ]
  },
  {
   "cell_type": "code",
   "execution_count": 7,
   "id": "c24a9599",
   "metadata": {},
   "outputs": [
    {
     "name": "stdout",
     "output_type": "stream",
     "text": [
      "repeat open at 0\n",
      "repeat close 2x at 1\n",
      "repeat open at 4\n",
      "repeat close 2x at 5\n"
     ]
    }
   ],
   "source": [
    "#print out all the repeats in a test song\n",
    "test_file = \"D:\\\\Documents\\\\DATA\\\\DadaGP-v1.1\\\\1\\\\1349\\\\1349 - Deathmarch.gp4\"\n",
    "song = guitarpro.parse(test_file)\n",
    "for i, measure in enumerate(song.tracks[0].measures):\n",
    "    if measure.header.isRepeatOpen:\n",
    "        print(\"repeat open at {}\".format(i))\n",
    "    elif measure.header.repeatClose > -1:\n",
    "        print(\"repeat close {}x at {}\".format(measure.header.repeatClose, i))\n",
    "#isRepeatOpen will be true at the beginning of the repeat. repeatClose is an int that appears in the measure of the closing repeat.number repeats not including OG\n"
   ]
  },
  {
   "cell_type": "code",
   "execution_count": 6,
   "id": "9ad5e759",
   "metadata": {},
   "outputs": [
    {
     "name": "stdout",
     "output_type": "stream",
     "text": [
      "repeat open at 0\n",
      "repeat alt 1 at 6\n",
      "repeat close 1x at 7\n",
      "repeat alt 2 at 8\n",
      "repeat open at 10\n",
      "repeat close 3x at 13\n",
      "repeat open at 14\n",
      "repeat close 3x at 17\n",
      "repeat open at 18\n",
      "repeat close 1x at 25\n",
      "repeat open at 26\n",
      "repeat close 3x at 29\n",
      "repeat open at 50\n",
      "repeat alt 3 at 52\n",
      "repeat close 1x at 53\n",
      "repeat alt 4 at 54\n",
      "repeat open at 56\n",
      "repeat close 3x at 59\n",
      "repeat open at 60\n",
      "repeat close 3x at 63\n",
      "repeat open at 64\n",
      "repeat close 1x at 71\n",
      "repeat open at 72\n",
      "repeat close 3x at 75\n"
     ]
    }
   ],
   "source": [
    "#analyze test file with alternate endings\n",
    "\n",
    "test_file = \"D:\\\\Documents\\\\DATA\\\\DadaGP-v1.1\\\\3\\\\3 Inches Of Blood\\\\3 Inches Of Blood - Balls Of Ice.gp4\"\n",
    "song = guitarpro.parse(test_file)\n",
    "for i, measure in enumerate(song.tracks[0].measures):\n",
    "    if measure.header.isRepeatOpen:\n",
    "        print(\"repeat open at {}\".format(i))\n",
    "    elif measure.header.repeatClose > -1:\n",
    "        print(\"repeat close {}x at {}\".format(measure.header.repeatClose, i))\n",
    "    elif measure.header.repeatAlternative > 0:\n",
    "        print(\"repeat alt {} at {}\".format(measure.header.repeatAlternative, i))"
   ]
  },
  {
   "cell_type": "code",
   "execution_count": 12,
   "id": "24bb6da9",
   "metadata": {},
   "outputs": [],
   "source": [
    "#code for reformatting the data parallel model\n",
    "import torch\n",
    "from collections import OrderedDict\n",
    "\n",
    "# original saved file with DataParallel\n",
    "model = torch.load('../model-weights/parallel_ep_205.pth.tar')\n",
    "# create new OrderedDict that does not contain `module.`\n",
    "new_state_dict = OrderedDict()\n",
    "for k, v in model['state_dict'].items():\n",
    "    name = k[7:] # remove `module.`\n",
    "    new_state_dict[name] = v\n",
    "# load params\n",
    "model['state_dict'] = new_state_dict\n",
    "torch.save(model, \"../model-weights/ep_205.pth.tar\")"
   ]
  },
  {
   "cell_type": "code",
   "execution_count": null,
   "id": "2881aac6",
   "metadata": {},
   "outputs": [],
   "source": [
    "#extract 25 \"real\" loops following genre distribution\n",
    "#each loop should be 4 bars long (should we restrict to 4/4 time signature?)\n",
    "#TODO: how to get the genre distribution? we have it as JSON files but #2 genre is \"unknown.\" Should we filter out and only use top few genres? and do this in training too?\n",
    "#for generation, was thinking for each real example we generate artifical one with the same tempo and starting beat (since a primer is needed)\n",
    "#should we include genre/artist tags in the artificial generation and does this matter? \n",
    "#try prompting with an open repeat symbol, could make the training dataset have the repeat\n",
    "#training only on guitar parts?\n",
    "#average number of instruments per track? Could be predominantly only guitar or something\n",
    "#try training on different checkpoints other than 200\n",
    "#try changing the group size"
   ]
  }
 ],
 "metadata": {
  "interpreter": {
   "hash": "7267be1539d73ab39c112814417f18c4975d99ab747a8f8d4d84d1f2aa9dc97a"
  },
  "kernelspec": {
   "display_name": "Python 3.7.0 64-bit",
   "language": "python",
   "name": "python3"
  },
  "language_info": {
   "codemirror_mode": {
    "name": "ipython",
    "version": 3
   },
   "file_extension": ".py",
   "mimetype": "text/x-python",
   "name": "python",
   "nbconvert_exporter": "python",
   "pygments_lexer": "ipython3",
   "version": "3.7.0"
  }
 },
 "nbformat": 4,
 "nbformat_minor": 5
}
